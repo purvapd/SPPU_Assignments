{
  "nbformat": 4,
  "nbformat_minor": 0,
  "metadata": {
    "colab": {
      "provenance": [],
      "collapsed_sections": []
    },
    "kernelspec": {
      "name": "python3",
      "display_name": "Python 3"
    },
    "language_info": {
      "name": "python"
    }
  },
  "cells": [
    {
      "cell_type": "markdown",
      "source": [
        "\n",
        "\n",
        "---\n",
        "Savitribai Phule Pune University   \n",
        "Second Year of Computer Engineering (2019 Course) 210246:\n",
        "\n",
        "# **Data Structures Laboratory**\n",
        "---\n",
        "\n",
        "> ### **GROUP-A**\n"
      ],
      "metadata": {
        "id": "LBA6v9F9fcEC"
      }
    },
    {
      "cell_type": "markdown",
      "source": [
        "**Problem Statement:-**\n",
        "\n",
        "Write a Python program for department library which has N books, write functions for following:\n",
        "\n",
        "a) Delete the duplicate entries\n",
        "\n",
        "b) Display books in ascending order based on cost of books\n",
        "\n",
        "c) Count number of books with cost more than 500. \n",
        "\n",
        "d) Copy books in a new list which has cost less than 500.\n",
        "\n",
        "\n",
        "---\n",
        "\n"
      ],
      "metadata": {
        "id": "Dm7Zoc0ofEf-"
      }
    },
    {
      "cell_type": "markdown",
      "source": [
        "#### Define function to take input from user"
      ],
      "metadata": {
        "id": "mOy6xnKFmgF-"
      }
    },
    {
      "cell_type": "code",
      "source": [
        "def Add_cost(num, cost_list):\n",
        "  for i in range(num):  \n",
        "    id  = input(f\"Enter Book_id for book {i+1}:-\")\n",
        "    cost = int(input(f\"Enter cost for book with id-{id} :-\"))\n",
        "    cost_list.append([id,cost])\n",
        "  return cost_list\n",
        "\n",
        "\n",
        "num =int(input(\"Enter Number of books in department library:-\"))\n",
        "cost_list = []\n",
        "Add_cost(num, cost_list)\n",
        "print(\"List of books in department library :- \", cost_list)"
      ],
      "metadata": {
        "colab": {
          "base_uri": "https://localhost:8080/"
        },
        "id": "XN8AYAlHmExq",
        "outputId": "cd4a5f84-a5aa-4d3e-c7a5-233458ce474b"
      },
      "execution_count": 8,
      "outputs": [
        {
          "output_type": "stream",
          "name": "stdout",
          "text": [
            "Enter Number of books in department library:-10\n",
            "Enter Book_id for book 1:-AP123\n",
            "Enter cost for book with id-AP123 :-200\n",
            "Enter Book_id for book 2:-ES23\n",
            "Enter cost for book with id-ES23 :-800\n",
            "Enter Book_id for book 3:-AS12\n",
            "Enter cost for book with id-AS12 :-600\n",
            "Enter Book_id for book 4:-ES23\n",
            "Enter cost for book with id-ES23 :-800\n",
            "Enter Book_id for book 5:-FDR56\n",
            "Enter cost for book with id-FDR56 :-890\n",
            "Enter Book_id for book 6:-THY44\n",
            "Enter cost for book with id-THY44 :-250\n",
            "Enter Book_id for book 7:-SY12\n",
            "Enter cost for book with id-SY12 :-250\n",
            "Enter Book_id for book 8:-YG99\n",
            "Enter cost for book with id-YG99 :-340\n",
            "Enter Book_id for book 9:-TD4\n",
            "Enter cost for book with id-TD4 :-600\n",
            "Enter Book_id for book 10:-TD4\n",
            "Enter cost for book with id-TD4 :-600\n",
            "List of books in department library :-  [['AP123', 200], ['ES23', 800], ['AS12', 600], ['ES23', 800], ['FDR56', 890], ['THY44', 250], ['SY12', 250], ['YG99', 340], ['TD4', 600], ['TD4', 600]]\n"
          ]
        }
      ]
    },
    {
      "cell_type": "markdown",
      "source": [
        "### Task-1 Delete the duplicate entries"
      ],
      "metadata": {
        "id": "3x60upUcmlnp"
      }
    },
    {
      "cell_type": "code",
      "source": [
        "Task_1_list =[]\n",
        "for book in cost_list: \n",
        "  if book not in Task_1_list:\n",
        "    Task_1_list.append(book)\n",
        "print(\"List of books without duplicate entries\", Task_1_list)\n",
        "print()"
      ],
      "metadata": {
        "colab": {
          "base_uri": "https://localhost:8080/"
        },
        "id": "9iG_BTFLmcVP",
        "outputId": "67eb0fb5-6067-4e44-dc60-2fd3e176441c"
      },
      "execution_count": 9,
      "outputs": [
        {
          "output_type": "stream",
          "name": "stdout",
          "text": [
            "List of books without duplicate entries [['AP123', 200], ['ES23', 800], ['AS12', 600], ['FDR56', 890], ['THY44', 250], ['SY12', 250], ['YG99', 340], ['TD4', 600]]\n",
            "\n"
          ]
        }
      ]
    },
    {
      "cell_type": "markdown",
      "source": [
        "### Task-2 Display books in ascending order based on cost of books"
      ],
      "metadata": {
        "id": "iWvJ89PRmrWt"
      }
    },
    {
      "cell_type": "code",
      "source": [
        "Task_2_list = sorted(Task_1_list, key=lambda x:x[1])\n",
        "print(\"List of books in ascending order based on cost of books :-\", Task_2_list)\n",
        "print()"
      ],
      "metadata": {
        "colab": {
          "base_uri": "https://localhost:8080/"
        },
        "id": "coY4qAzmma06",
        "outputId": "3f48c8da-168d-428f-8e17-0e3a1f88a17b"
      },
      "execution_count": 10,
      "outputs": [
        {
          "output_type": "stream",
          "name": "stdout",
          "text": [
            "List of books in ascending order based on cost of books :- [['AP123', 200], ['THY44', 250], ['SY12', 250], ['YG99', 340], ['AS12', 600], ['TD4', 600], ['ES23', 800], ['FDR56', 890]]\n",
            "\n"
          ]
        }
      ]
    },
    {
      "cell_type": "markdown",
      "source": [
        "### Task-3 Count number of books with cost more than 500. \n",
        "### Task-4 Copy books in a new list which has cost less than 500."
      ],
      "metadata": {
        "id": "go8aN7q6mu9L"
      }
    },
    {
      "cell_type": "code",
      "source": [
        "\n",
        "count=0\n",
        "Task_4_list =[]\n",
        "for book in Task_1_list:\n",
        "  if book[1] > 500:\n",
        "    count += 1\n",
        "  else:\n",
        "    Task_4_list.append(book)\n",
        "\n",
        "print(\"Number of books with cost more than 500:-\", count)\n",
        "print()\n",
        "print(\"New list of books which has cost less than 500:-\",Task_4_list)\n"
      ],
      "metadata": {
        "colab": {
          "base_uri": "https://localhost:8080/"
        },
        "id": "cLXjdeM9mZGf",
        "outputId": "b0901137-f298-4fea-e740-d3748dc1573d"
      },
      "execution_count": 11,
      "outputs": [
        {
          "output_type": "stream",
          "name": "stdout",
          "text": [
            "Number of books with cost more than 500:- 4\n",
            "\n",
            "New list of books which has cost less than 500:- [['AP123', 200], ['THY44', 250], ['SY12', 250], ['YG99', 340]]\n"
          ]
        }
      ]
    }
  ]
}