{
  "nbformat": 4,
  "nbformat_minor": 0,
  "metadata": {
    "colab": {
      "provenance": [],
      "collapsed_sections": []
    },
    "kernelspec": {
      "name": "python3",
      "display_name": "Python 3"
    },
    "language_info": {
      "name": "python"
    }
  },
  "cells": [
    {
      "cell_type": "markdown",
      "source": [
        "\n",
        "\n",
        "---\n",
        "Savitribai Phule Pune University   \n",
        "Second Year of Computer Engineering (2019 Course) 210246:\n",
        "\n",
        "# **Data Structures Laboratory**\n",
        "---\n",
        "\n",
        "> ### **GROUP-A**\n"
      ],
      "metadata": {
        "id": "LBA6v9F9fcEC"
      }
    },
    {
      "cell_type": "markdown",
      "source": [
        "**Problem Statement:-**\n",
        "\n",
        "In second year computer engineering class, group A student’s play cricket, group B \n",
        "students play badminton and group C students play football. \n",
        "Write a Python program using functions to compute following: -\n",
        "\n",
        "a) List of students who play both cricket and badminton \n",
        "\n",
        "b) List of students who play either cricket or badminton but not both \n",
        "\n",
        "c) Number of students who play neither cricket nor badminton\n",
        "\n",
        "d) Number of students who play cricket and football but not badminton.\n",
        "\n",
        "(Note- While realizing the group, duplicate entries should be avoided, Do not use SET \n",
        "built-in functions) \n",
        "\n",
        "\n",
        "---\n",
        "\n"
      ],
      "metadata": {
        "id": "Dm7Zoc0ofEf-"
      }
    },
    {
      "cell_type": "markdown",
      "source": [
        "Function to add entries into the list"
      ],
      "metadata": {
        "id": "qYrFZjYVls1I"
      }
    },
    {
      "cell_type": "code",
      "source": [
        "def Add_name(group_name_list , group_number ):\n",
        "  for i in range(group_number):\n",
        "    name = input(f\"Enter name of the student {i+1} :-\")\n",
        "    if name not in group_name_list:\n",
        "      group_name_list.append(name)\n",
        "  return group_name_list\n"
      ],
      "metadata": {
        "id": "Fukuy0yQfYib"
      },
      "execution_count": 1,
      "outputs": []
    },
    {
      "cell_type": "markdown",
      "source": [
        "Define function for intersection of two lists"
      ],
      "metadata": {
        "id": "zBFgK-Z4leFO"
      }
    },
    {
      "cell_type": "code",
      "source": [
        "def intersection(Group_1, Group_2, Intersection_list):\n",
        "  for i in Group_1:\n",
        "      if (i in Group_2):\n",
        "        Intersection_list.append(i)\n",
        "  return Intersection_list"
      ],
      "metadata": {
        "id": "eZLl5vNTlid7"
      },
      "execution_count": 2,
      "outputs": []
    },
    {
      "cell_type": "markdown",
      "source": [
        "Define function for union of two lists"
      ],
      "metadata": {
        "id": "yFgLMZ2QlmG_"
      }
    },
    {
      "cell_type": "code",
      "source": [
        "def union(Group_1, Group_2, Union_list):\n",
        "  for i in Group_1:\n",
        "      Union_list.append(i)\n",
        "\n",
        "  for j in Group_2:\n",
        "    if (j not in Group_1):\n",
        "      Union_list.append(j)  \n",
        "  return Union_list"
      ],
      "metadata": {
        "id": "Ytr_0pTPlnFf"
      },
      "execution_count": 3,
      "outputs": []
    },
    {
      "cell_type": "markdown",
      "source": [
        "Take input form user for students who plays cricket football and badminton\n",
        "\n"
      ],
      "metadata": {
        "id": "bYTxhISImI_o"
      }
    },
    {
      "cell_type": "code",
      "source": [
        "group_A_list = []\n",
        "group_B_list =[]\n",
        "group_C_list = []\n",
        "\n",
        "group_A_number =int(input(\"Enter no of students who play cricket:-\"))\n",
        "Add_name(group_A_list, group_A_number)\n",
        "print(\"List of the students who play cricket:-\" ,group_A_list)\n",
        "print()\n",
        "\n",
        "\n",
        "group_B_number =int(input(\"Enter no of students who play badminton:-\"))\n",
        "Add_name(group_B_list, group_B_number)\n",
        "print(\"List of the students who play badminton:-\" ,group_B_list)\n",
        "print()\n",
        "\n",
        "group_C_number =int(input(\"Enter no of students who play football:-\"))\n",
        "Add_name(group_C_list, group_C_number)\n",
        "print(\"List of the students who play football:-\" ,group_C_list)\n",
        "print()"
      ],
      "metadata": {
        "colab": {
          "base_uri": "https://localhost:8080/"
        },
        "id": "WoLZNnGVmDyZ",
        "outputId": "cc7b5ef5-0dd3-409f-d453-c419554c728f"
      },
      "execution_count": 5,
      "outputs": [
        {
          "output_type": "stream",
          "name": "stdout",
          "text": [
            "Enter no of students who play cricket:-5\n",
            "Enter name of the student 1 :-purva\n",
            "Enter name of the student 2 :-sahil\n",
            "Enter name of the student 3 :-amey\n",
            "Enter name of the student 4 :-shrayank\n",
            "Enter name of the student 5 :-sneha\n",
            "List of the students who play cricket:- ['purva', 'sahil', 'amey', 'shrayank', 'sneha']\n",
            "\n",
            "Enter no of students who play badminton:-3\n",
            "Enter name of the student 1 :-sahil\n",
            "Enter name of the student 2 :-madhura\n",
            "Enter name of the student 3 :-amey\n",
            "List of the students who play badminton:- ['sahil', 'madhura', 'amey']\n",
            "\n",
            "Enter no of students who play football:-7\n",
            "Enter name of the student 1 :-omkar\n",
            "Enter name of the student 2 :-vijay\n",
            "Enter name of the student 3 :-purva\n",
            "Enter name of the student 4 :-amey\n",
            "Enter name of the student 5 :-shrayank\n",
            "Enter name of the student 6 :-abhi\n",
            "Enter name of the student 7 :-manav\n",
            "List of the students who play football:- ['omkar', 'vijay', 'purva', 'amey', 'shrayank', 'abhi', 'manav']\n",
            "\n"
          ]
        }
      ]
    },
    {
      "cell_type": "markdown",
      "source": [
        "### Task-1 List of students who play both cricket and badminton"
      ],
      "metadata": {
        "id": "C7FO6wFymfhW"
      }
    },
    {
      "cell_type": "code",
      "source": [
        "Task_1_list =[]\n",
        "intersection(group_A_list, group_B_list, Task_1_list)\n",
        "print(\"List of students who play both cricket and badminton:-\", Task_1_list, )\n"
      ],
      "metadata": {
        "colab": {
          "base_uri": "https://localhost:8080/"
        },
        "id": "_BfjybZYmY3G",
        "outputId": "6be21684-1c0e-4f33-8393-1c2b591a6762"
      },
      "execution_count": 6,
      "outputs": [
        {
          "output_type": "stream",
          "name": "stdout",
          "text": [
            "List of students who play both cricket and badminton:- ['sahil', 'amey']\n"
          ]
        }
      ]
    },
    {
      "cell_type": "markdown",
      "source": [
        "### Task-2 List of students who play either cricket or badminton but not both "
      ],
      "metadata": {
        "id": "CJLdkfDZmkcC"
      }
    },
    {
      "cell_type": "code",
      "source": [
        "Task_2_list =[]\n",
        "Union_list =[]\n",
        "union(group_A_list, group_B_list, Union_list)\n",
        "for i in Union_list:\n",
        "  if (i not in Task_1_list):\n",
        "    Task_2_list.append(i)\n",
        "print(\"List of students who play either cricket or badminton but not both:-\", Task_2_list)\n"
      ],
      "metadata": {
        "colab": {
          "base_uri": "https://localhost:8080/"
        },
        "id": "Mc1h6ZKFmk6Z",
        "outputId": "a36a1ea5-7962-4fde-bcfc-65c9173502dd"
      },
      "execution_count": 7,
      "outputs": [
        {
          "output_type": "stream",
          "name": "stdout",
          "text": [
            "List of students who play either cricket or badminton but not both:- ['purva', 'shrayank', 'sneha', 'madhura']\n"
          ]
        }
      ]
    },
    {
      "cell_type": "markdown",
      "source": [
        "### Task-3 Number of students who play neither cricket nor badminton"
      ],
      "metadata": {
        "id": "vXXeh2iRmspt"
      }
    },
    {
      "cell_type": "code",
      "source": [
        "Task_3_list =[]\n",
        "for i in group_C_list:\n",
        "  if (i not in group_A_list) and (i not in group_B_list):\n",
        "    Task_3_list.append(i)\n",
        "print(\"Number of students who play neither cricket nor badminton:-\",Task_3_list)\n"
      ],
      "metadata": {
        "colab": {
          "base_uri": "https://localhost:8080/"
        },
        "id": "iqe-WZh0nJzI",
        "outputId": "6350d11f-9bc2-4805-a2c9-8ba8123ae31a"
      },
      "execution_count": 8,
      "outputs": [
        {
          "output_type": "stream",
          "name": "stdout",
          "text": [
            "Number of students who play neither cricket nor badminton:- ['omkar', 'vijay', 'abhi', 'manav']\n"
          ]
        }
      ]
    },
    {
      "cell_type": "markdown",
      "source": [
        "### Task-4 Number of students who play cricket and football but not badminton."
      ],
      "metadata": {
        "id": "Gyq1c1mvnVwl"
      }
    },
    {
      "cell_type": "code",
      "source": [
        "Task_4_list=[]\n",
        "intersec_C_F =[]\n",
        "intersection(group_A_list, group_C_list , intersec_C_F)\n",
        "for i in intersec_C_F:\n",
        "  if i not in group_B_list:\n",
        "    Task_4_list.append(i)\n",
        "print('Number of students who play cricket and football but not badminton:-',Task_4_list)\n"
      ],
      "metadata": {
        "colab": {
          "base_uri": "https://localhost:8080/"
        },
        "id": "vtn5YN5ZnTkT",
        "outputId": "f4470528-2506-4ab9-aa27-217aef9967bc"
      },
      "execution_count": 9,
      "outputs": [
        {
          "output_type": "stream",
          "name": "stdout",
          "text": [
            "Number of students who play cricket and football but not badminton:- ['purva', 'shrayank']\n"
          ]
        }
      ]
    }
  ]
}