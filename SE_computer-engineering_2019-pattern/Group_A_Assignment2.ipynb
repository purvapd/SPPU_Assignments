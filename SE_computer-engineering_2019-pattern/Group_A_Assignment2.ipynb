{
  "nbformat": 4,
  "nbformat_minor": 0,
  "metadata": {
    "colab": {
      "provenance": [],
      "collapsed_sections": []
    },
    "kernelspec": {
      "name": "python3",
      "display_name": "Python 3"
    },
    "language_info": {
      "name": "python"
    }
  },
  "cells": [
    {
      "cell_type": "markdown",
      "source": [
        "\n",
        "\n",
        "---\n",
        "Savitribai Phule Pune University   \n",
        "Second Year of Computer Engineering (2019 Course) 210246:\n",
        "\n",
        "# **Data Structures Laboratory**\n",
        "---\n",
        "\n",
        "> ### **GROUP-A**\n"
      ],
      "metadata": {
        "id": "LBA6v9F9fcEC"
      }
    },
    {
      "cell_type": "markdown",
      "source": [
        "**Problem Statement:-**\n",
        "\n",
        "Write a Python program to store marks scored in subject “Fundamental of Data Structure” by N students in the class. Write functions to compute following:\n",
        "\n",
        "a) The average score of class \n",
        "\n",
        "b) Highest score and lowest score of class \n",
        "\n",
        "c) Count of students who were absent for the test\n",
        "\n",
        "d) Display mark with highest frequency\n",
        "\n",
        "\n",
        "---\n",
        "\n"
      ],
      "metadata": {
        "id": "Dm7Zoc0ofEf-"
      }
    },
    {
      "cell_type": "markdown",
      "source": [
        "#### Define function to take input from user"
      ],
      "metadata": {
        "id": "2DBL6r6a-fGW"
      }
    },
    {
      "cell_type": "code",
      "source": [
        "def Add_marks(n_std, marks_list):\n",
        "  print(\"Enter 'A' for the student who are not present for exam\")\n",
        "  for i in range(n_std):    \n",
        "    mark = input(f\"Enter Mark for student {i+1} out of 100 :-\")\n",
        "    marks_list.append(mark)\n",
        "  return marks_list\n",
        "\n",
        "num = int(input(\"Enter No of students enroll for subject 'Fundamental of Data Structure':-\"))\n",
        "marks_list =[]\n",
        "Add_marks(num ,marks_list)\n",
        "print(\"Students mark list :- \", marks_list)\n"
      ],
      "metadata": {
        "colab": {
          "base_uri": "https://localhost:8080/"
        },
        "id": "BCJHewGE-eba",
        "outputId": "02329ba8-8826-43b3-a519-dfcff72adc1b"
      },
      "execution_count": 1,
      "outputs": [
        {
          "output_type": "stream",
          "name": "stdout",
          "text": [
            "Enter No of students enroll for subject 'Fundamental of Data Structure':-15\n",
            "Enter 'A' for the student who are not present for exam\n",
            "Enter Mark for student 1 out of 100 :-60\n",
            "Enter Mark for student 2 out of 100 :-56\n",
            "Enter Mark for student 3 out of 100 :-98\n",
            "Enter Mark for student 4 out of 100 :-A\n",
            "Enter Mark for student 5 out of 100 :-76\n",
            "Enter Mark for student 6 out of 100 :-89\n",
            "Enter Mark for student 7 out of 100 :-45\n",
            "Enter Mark for student 8 out of 100 :-78\n",
            "Enter Mark for student 9 out of 100 :-66\n",
            "Enter Mark for student 10 out of 100 :-90\n",
            "Enter Mark for student 11 out of 100 :-78\n",
            "Enter Mark for student 12 out of 100 :-95\n",
            "Enter Mark for student 13 out of 100 :-55\n",
            "Enter Mark for student 14 out of 100 :-70\n",
            "Enter Mark for student 15 out of 100 :-70\n",
            "Students mark list :-  ['60', '56', '98', 'A', '76', '89', '45', '78', '66', '90', '78', '95', '55', '70', '70']\n"
          ]
        }
      ]
    },
    {
      "cell_type": "markdown",
      "source": [
        "### Task-1 The average score of class "
      ],
      "metadata": {
        "id": "KqJYaaQOhJr1"
      }
    },
    {
      "cell_type": "code",
      "source": [
        "\n",
        "sum = 0\n",
        "count=0\n",
        "for i in marks_list:\n",
        "  if i is not 'A':\n",
        "    sum= sum+ int(i)\n",
        "    count=count+1\n",
        "avg = sum / count\n",
        "print(\"The average score of class:-\", avg)"
      ],
      "metadata": {
        "colab": {
          "base_uri": "https://localhost:8080/"
        },
        "id": "v77SqKM--vtU",
        "outputId": "86f86082-6172-4624-f39e-13eb5887dcba"
      },
      "execution_count": 2,
      "outputs": [
        {
          "output_type": "stream",
          "name": "stdout",
          "text": [
            "The average score of class:- 73.28571428571429\n"
          ]
        }
      ]
    },
    {
      "cell_type": "markdown",
      "source": [
        "### Task-2 Highest score and lowest score of class"
      ],
      "metadata": {
        "id": "W0kzF9a7hVOf"
      }
    },
    {
      "cell_type": "code",
      "source": [
        "\n",
        "maximum = -1\n",
        "minimum = 999\n",
        "for i in marks_list:\n",
        "  if i is not 'A':\n",
        "    if (int(i) > maximum) :\n",
        "      maximum = int(i)\n",
        "    if (int(i) < minimum) :\n",
        "      minimum =int(i)\n",
        "print(\"Highest Score of the class:-\",maximum)\n",
        "print(\"Lowest Score of the class:-\",minimum)"
      ],
      "metadata": {
        "colab": {
          "base_uri": "https://localhost:8080/"
        },
        "id": "Dc4xJg0R-ttw",
        "outputId": "dc069683-07bd-4acc-8c72-86e2cbc1ad2f"
      },
      "execution_count": 3,
      "outputs": [
        {
          "output_type": "stream",
          "name": "stdout",
          "text": [
            "Highest Score of the class:- 98\n",
            "Lowest Score of the class:- 45\n"
          ]
        }
      ]
    },
    {
      "cell_type": "markdown",
      "source": [
        "### Task-3 Count of students who were absent for the test"
      ],
      "metadata": {
        "id": "TxeNJO69hX_T"
      }
    },
    {
      "cell_type": "code",
      "source": [
        "Absent_count=0\n",
        "for i in marks_list:\n",
        "  if i is 'A':\n",
        "    Absent_count += 1\n",
        "print(\"Count of students who were absent for the test:-\", Absent_count)"
      ],
      "metadata": {
        "colab": {
          "base_uri": "https://localhost:8080/"
        },
        "id": "pA9DVJOF-sJg",
        "outputId": "754a2bf7-c107-4a91-c523-e486adb8c555"
      },
      "execution_count": 5,
      "outputs": [
        {
          "output_type": "stream",
          "name": "stdout",
          "text": [
            "Count of students who were absent for the test:- 1\n"
          ]
        }
      ]
    },
    {
      "cell_type": "markdown",
      "source": [
        "### Task-4 Display mark with highest frequency"
      ],
      "metadata": {
        "id": "uN6_egDRhadU"
      }
    },
    {
      "cell_type": "code",
      "source": [
        "freq = 0\n",
        "for i in marks_list:\n",
        "  if i is not 'A':\n",
        "    c = marks_list.count(i)\n",
        "    if  c > freq:\n",
        "      freq = c\n",
        "print(\"Mark with highest frequency :-\", freq)"
      ],
      "metadata": {
        "colab": {
          "base_uri": "https://localhost:8080/"
        },
        "id": "EMFICb4n-pym",
        "outputId": "76f55864-3b5b-4225-ce86-09ed03862b62"
      },
      "execution_count": 6,
      "outputs": [
        {
          "output_type": "stream",
          "name": "stdout",
          "text": [
            "Mark with highest frequency :- 2\n"
          ]
        }
      ]
    }
  ]
}