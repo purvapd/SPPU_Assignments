{
  "nbformat": 4,
  "nbformat_minor": 0,
  "metadata": {
    "colab": {
      "provenance": [],
      "collapsed_sections": []
    },
    "kernelspec": {
      "name": "python3",
      "display_name": "Python 3"
    },
    "language_info": {
      "name": "python"
    }
  },
  "cells": [
    {
      "cell_type": "markdown",
      "source": [
        "\n",
        "\n",
        "---\n",
        "Savitribai Phule Pune University   \n",
        "Second Year of Computer Engineering (2019 Course) 210246:\n",
        "\n",
        "# **Data Structures Laboratory**\n",
        "---\n",
        "\n",
        "> ### **GROUP-A**\n"
      ],
      "metadata": {
        "id": "LBA6v9F9fcEC"
      }
    },
    {
      "cell_type": "markdown",
      "source": [
        "**Problem Statement:-**\n",
        "\n",
        "Write a Python program that computes the net amount of a bank account based a transaction log from console input. The transaction log format is shown as following: \n",
        "\n",
        "D 100 W 200 (Withdrawal is not allowed if balance is going negative. \n",
        "\n",
        "Write functions for withdraw and deposit) D means deposit while W means withdrawal.\n",
        "\n",
        "Suppose the following input is supplied to the program: \n",
        "\n",
        "D 300, D 300 , W 200, D 100 Then, the output should be: 500\n",
        "\n",
        "---\n",
        "\n"
      ],
      "metadata": {
        "id": "Dm7Zoc0ofEf-"
      }
    },
    {
      "cell_type": "markdown",
      "source": [
        "#### Define function to take input from user"
      ],
      "metadata": {
        "id": "mOy6xnKFmgF-"
      }
    },
    {
      "cell_type": "code",
      "source": [
        "print(\"Transaction log should be in the format 'D 100 W 200' where D is deposite and W is withdrwal with amount \")\n",
        "trans_log = input(\"Enter the transaction log \")\n",
        "trans_list = trans_log.split()\n"
      ],
      "metadata": {
        "colab": {
          "base_uri": "https://localhost:8080/"
        },
        "id": "Tj559qiLoLar",
        "outputId": "d62237b6-d785-4ada-8b99-986ed7059015"
      },
      "execution_count": 13,
      "outputs": [
        {
          "name": "stdout",
          "output_type": "stream",
          "text": [
            "Transaction log should be in the format 'D 100 W 200' where D is deposite and W is withdrwal with amount \n",
            "Enter the transaction log D 300 D 300  W 200 D 100\n"
          ]
        }
      ]
    },
    {
      "cell_type": "code",
      "source": [
        "Net_amount=0\n",
        "for i in range(len(trans_list)):\n",
        "  if trans_list[i] == \"D\":\n",
        "    Net_amount = Net_amount + int(trans_list[i+1])\n",
        "  elif trans_list[i] == \"W\":\n",
        "    Net_amount = Net_amount - int(trans_list[i+1])\n",
        "    if Net_amount < 0:\n",
        "      print(\"Withdrawl is not allowed\")\n",
        "      break\n",
        "\n",
        "if Net_amount > 0:\n",
        "  print(\"Net amount of a bank account based a transaction log:-\", Net_amount )"
      ],
      "metadata": {
        "colab": {
          "base_uri": "https://localhost:8080/"
        },
        "id": "-eYgGCx1oPzx",
        "outputId": "61fb4f54-f327-428c-db51-f869357e96f7"
      },
      "execution_count": 14,
      "outputs": [
        {
          "output_type": "stream",
          "name": "stdout",
          "text": [
            "Net amount of a bank account based a transaction log:- 500\n"
          ]
        }
      ]
    },
    {
      "cell_type": "code",
      "source": [],
      "metadata": {
        "id": "Xwv6uijNoszl"
      },
      "execution_count": null,
      "outputs": []
    }
  ]
}