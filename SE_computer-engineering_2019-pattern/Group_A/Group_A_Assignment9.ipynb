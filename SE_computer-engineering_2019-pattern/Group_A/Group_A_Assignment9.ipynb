{
  "nbformat": 4,
  "nbformat_minor": 0,
  "metadata": {
    "colab": {
      "provenance": [],
      "collapsed_sections": []
    },
    "kernelspec": {
      "name": "python3",
      "display_name": "Python 3"
    },
    "language_info": {
      "name": "python"
    }
  },
  "cells": [
    {
      "cell_type": "markdown",
      "source": [
        "\n",
        "\n",
        "---\n",
        "Savitribai Phule Pune University   \n",
        "Second Year of Computer Engineering (2019 Course) 210246:\n",
        "\n",
        "# **Data Structures Laboratory**\n",
        "---\n",
        "\n",
        "> ### **GROUP-A**\n"
      ],
      "metadata": {
        "id": "LBA6v9F9fcEC"
      }
    },
    {
      "cell_type": "markdown",
      "source": [
        "**Problem Statement:-**\n",
        "\n",
        "Write a Python program to compute following computation on matrix:\n",
        "a) Addition of two matrices \n",
        "\n",
        "B) Subtraction of two matrices\n",
        "\n",
        "c) Multiplication of two matrices \n",
        "\n",
        "d) Transpose of a matrix\n"
      ],
      "metadata": {
        "id": "Dm7Zoc0ofEf-"
      }
    },
    {
      "cell_type": "code",
      "source": [
        "import numpy as np\n",
        "def take_input(r ,c ):\n",
        "  matrix = np.zeros((r , c) , dtype=int)\n",
        "  print(\"Matrix input:-\")\n",
        "  for i in range(0,r):\n",
        "    for j in range(0,c):\n",
        "      val = int(input(f\"Enter number at position {i+1,j+1}:-\"))\n",
        "      matrix[i][j] = val\n",
        "  return np.array(matrix)\n",
        "\n",
        "r1,c1 = map(int, input(\"Enter the row and column of the matrix_A:-\").split())\n",
        "r2,c2 = map(int, input(\"Enter the row and column of the matrix_B:-\").split())\n",
        "\n",
        "print(\"\\nEnter input for matrix-A:-\")\n",
        "mat_A= take_input(r1,c1)\n",
        "\n",
        "print(\"\\nEnter input for matrix-B:-\")\n",
        "mat_B = take_input(r2,c2)\n",
        "\n",
        "print(\"\\nMatrix A:-\")\n",
        "print(mat_A)\n",
        "print(\"\\nMatrix B:-\")\n",
        "print(mat_B)\n"
      ],
      "metadata": {
        "id": "ww_3EO0oMQ_Y"
      },
      "execution_count": null,
      "outputs": []
    },
    {
      "cell_type": "code",
      "source": [
        "# Task 1 and Task-2 Addition and Subtraction of two matrices\"\n",
        "if (r1 == r2) and (c1==c2):\n",
        "  Add_matrix = np.zeros((r1 , c1) , dtype=int)\n",
        "  Sub_matrix = np.zeros((r1 , c1) , dtype=int)\n",
        "  for i in range(r1):\n",
        "    for j in range(c1):\n",
        "      Add_matrix[i][j] =  mat_A[i][j] +  mat_B[i][j]\n",
        "      Sub_matrix[i][j] =  mat_A[i][j] -  mat_B[i][j]\n",
        "\n",
        "print(\"\\nAddition of the matrix A and matrix B:-\")\n",
        "print(Add_matrix)\n",
        "print(\"\\nSubstraction of the matrix A and matrix B:-\")\n",
        "print(Sub_matrix)"
      ],
      "metadata": {
        "id": "TS__mB9YM2Dw"
      },
      "execution_count": null,
      "outputs": []
    },
    {
      "cell_type": "markdown",
      "source": [
        "### Task-3 Multiplication of two matrices"
      ],
      "metadata": {
        "id": "QCw5ISskMw22"
      }
    },
    {
      "cell_type": "code",
      "source": [
        "Mul_matrix = np.zeros((r1 , c2) , dtype=int)\n",
        "if c1 == r1:\n",
        "  for i in range(r1):\n",
        "   for j in range(c2):\n",
        "       for k in range(r2):\n",
        "           Mul_matrix[i][j] += mat_A[i][k] * mat_B[k][j]\n",
        "\n",
        "\n",
        "\n",
        "print(\"\\nMultiplication of the matrix A and matrix B:-\")\n",
        "print(Mul_matrix)"
      ],
      "metadata": {
        "id": "Wbot6CPoMu88"
      },
      "execution_count": null,
      "outputs": []
    },
    {
      "cell_type": "markdown",
      "source": [
        "### Task-4 Transpose of a matrix"
      ],
      "metadata": {
        "id": "cM6E-k1gMrFw"
      }
    },
    {
      "cell_type": "code",
      "source": [
        "\n",
        "Tran_mat_A = np.zeros((c1 , r1) , dtype=int)\n",
        "\n",
        "# iterate through rows\n",
        "for i in range(r1):\n",
        "   # iterate through columns\n",
        "   for j in range(c1):\n",
        "       Tran_mat_A[j][i] = mat_A[i][j]\n",
        "print(\"\\nTranspose of the matrix A :-\")\n",
        "print(Tran_mat_A)"
      ],
      "metadata": {
        "id": "-QAZrRtHMpoI"
      },
      "execution_count": null,
      "outputs": []
    }
  ]
}