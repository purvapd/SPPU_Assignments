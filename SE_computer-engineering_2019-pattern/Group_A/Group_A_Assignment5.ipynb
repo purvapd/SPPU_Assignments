{
  "nbformat": 4,
  "nbformat_minor": 0,
  "metadata": {
    "colab": {
      "provenance": [],
      "collapsed_sections": []
    },
    "kernelspec": {
      "name": "python3",
      "display_name": "Python 3"
    },
    "language_info": {
      "name": "python"
    }
  },
  "cells": [
    {
      "cell_type": "markdown",
      "source": [
        "\n",
        "\n",
        "---\n",
        "Savitribai Phule Pune University   \n",
        "Second Year of Computer Engineering (2019 Course) 210246:\n",
        "\n",
        "# **Data Structures Laboratory**\n",
        "---\n",
        "\n",
        "> ### **GROUP-A**\n"
      ],
      "metadata": {
        "id": "LBA6v9F9fcEC"
      }
    },
    {
      "cell_type": "markdown",
      "source": [
        "**Problem Statement:-**\n",
        "\n",
        "Write a Python program to compute following operations on String:\n",
        "\n",
        "a) To display word with the longest length\n",
        "\n",
        "b) To determines the frequency of occurrence of particular character in the string\n",
        "\n",
        "c) To check whether given string is palindrome or not \n",
        "\n",
        "d) To display index of first appearance of the substring\n",
        "\n",
        "e) To count the occurrences of each word in a given string\n",
        "\n",
        "\n",
        "---\n",
        "\n"
      ],
      "metadata": {
        "id": "Dm7Zoc0ofEf-"
      }
    },
    {
      "cell_type": "markdown",
      "source": [
        "#### Define function to take input from user"
      ],
      "metadata": {
        "id": "mOy6xnKFmgF-"
      }
    },
    {
      "cell_type": "code",
      "source": [
        "string = input(\"Enter string:-\")\n",
        "Split_list = string.split()"
      ],
      "metadata": {
        "colab": {
          "base_uri": "https://localhost:8080/"
        },
        "id": "sFqydXAmrCy-",
        "outputId": "18ce4aa6-5e63-4d69-af8a-d68ea0216cf3"
      },
      "execution_count": 17,
      "outputs": [
        {
          "name": "stdout",
          "output_type": "stream",
          "text": [
            "Enter string:-I am solving the assignment number five of data structure\n"
          ]
        }
      ]
    },
    {
      "cell_type": "markdown",
      "source": [
        "### Task-1 To display word with the longest length"
      ],
      "metadata": {
        "id": "OyHu5J_CrgZJ"
      }
    },
    {
      "cell_type": "code",
      "source": [
        "longest_word = max(Split_list,key=len)\n",
        "print(\"The word with the longest length:- \",longest_word)"
      ],
      "metadata": {
        "colab": {
          "base_uri": "https://localhost:8080/"
        },
        "id": "Oq5iCqqwrdn2",
        "outputId": "a4a85f84-4115-4e4b-c564-14862884f3a8"
      },
      "execution_count": 18,
      "outputs": [
        {
          "output_type": "stream",
          "name": "stdout",
          "text": [
            "The word with the longest length:-  assignment\n"
          ]
        }
      ]
    },
    {
      "cell_type": "markdown",
      "source": [
        "### Task-2 To determines the frequency of occurrence of particular character in the string"
      ],
      "metadata": {
        "id": "jexYAsfxrWUs"
      }
    },
    {
      "cell_type": "code",
      "source": [
        "char = input(\"Enter particular character in the string:- \")\n",
        "freq = string.count(char)\n",
        "print(f\"Frequency of occurrence of character-{char} in the string:-\",freq)\n",
        "print()"
      ],
      "metadata": {
        "colab": {
          "base_uri": "https://localhost:8080/"
        },
        "id": "jnpn2jl2rUeO",
        "outputId": "d1347f01-deec-4442-9d8b-400a6d7b6895"
      },
      "execution_count": 19,
      "outputs": [
        {
          "output_type": "stream",
          "name": "stdout",
          "text": [
            "Enter particular character in the string:- a\n",
            "Frequency of occurrence of character-a in the string:- 4\n",
            "\n"
          ]
        }
      ]
    },
    {
      "cell_type": "markdown",
      "source": [
        "### Task-3 To check whether given string is palindrome or not"
      ],
      "metadata": {
        "id": "tpL3nFaDrRBY"
      }
    },
    {
      "cell_type": "code",
      "source": [
        "if ( string == string[::-1]):\n",
        "  print(f\"The given string is plaindrome\")\n",
        "else:\n",
        "  print(f\"The given string is not plaindrome\")\n",
        "print()"
      ],
      "metadata": {
        "colab": {
          "base_uri": "https://localhost:8080/"
        },
        "id": "fLMnau8DrN22",
        "outputId": "5a3605a7-06cd-4de7-fdc2-433adc7936d8"
      },
      "execution_count": 20,
      "outputs": [
        {
          "output_type": "stream",
          "name": "stdout",
          "text": [
            "The given string is not plaindrome\n",
            "\n"
          ]
        }
      ]
    },
    {
      "cell_type": "markdown",
      "source": [
        "### Task-4 To display index of first appearance of the substring"
      ],
      "metadata": {
        "id": "uDPnHpkFrLs9"
      }
    },
    {
      "cell_type": "code",
      "source": [
        "sub_str = input(\"Enter particular substring in the string:- \")\n",
        "index = string.find(sub_str)\n",
        "if index != -1:\n",
        "  print(f\"Index of first appearance of the {sub_str}:-\",index)\n",
        "else:\n",
        "  print(\"Substring is not present in the string\")\n"
      ],
      "metadata": {
        "colab": {
          "base_uri": "https://localhost:8080/"
        },
        "id": "-d7ZKSnZrKGB",
        "outputId": "c2ca3014-fdea-469f-dc29-f5e3bbb4e227"
      },
      "execution_count": 22,
      "outputs": [
        {
          "output_type": "stream",
          "name": "stdout",
          "text": [
            "Enter particular substring in the string:- and\n",
            "Substring is not present in the string\n"
          ]
        }
      ]
    },
    {
      "cell_type": "markdown",
      "source": [
        "###Task-5 To count the occurrences of each word in a given string"
      ],
      "metadata": {
        "id": "cO6AUhqsrGkI"
      }
    },
    {
      "cell_type": "code",
      "source": [
        "Count_list = []\n",
        "for word in Split_list:\n",
        "  c = Split_list.count(word)\n",
        "  if (word , c) not in Count_list:\n",
        "    Count_list.append((word , c))\n",
        "print(\"List of occurrences of each word in a given string:-\", Count_list)"
      ],
      "metadata": {
        "colab": {
          "base_uri": "https://localhost:8080/"
        },
        "id": "fW-RHuT-rE06",
        "outputId": "20d44a7c-97c5-4798-ce4d-583d56d5eea3"
      },
      "execution_count": 23,
      "outputs": [
        {
          "output_type": "stream",
          "name": "stdout",
          "text": [
            "List of occurrences of each word in a given string:- [('I', 1), ('am', 1), ('solving', 1), ('the', 1), ('assignment', 1), ('number', 1), ('five', 1), ('of', 1), ('data', 1), ('structure', 1)]\n"
          ]
        }
      ]
    }
  ]
}