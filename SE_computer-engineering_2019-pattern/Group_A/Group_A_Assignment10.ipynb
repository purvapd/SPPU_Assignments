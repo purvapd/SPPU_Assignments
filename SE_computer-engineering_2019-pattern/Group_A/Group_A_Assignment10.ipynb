{
  "nbformat": 4,
  "nbformat_minor": 0,
  "metadata": {
    "colab": {
      "provenance": [],
      "collapsed_sections": []
    },
    "kernelspec": {
      "name": "python3",
      "display_name": "Python 3"
    },
    "language_info": {
      "name": "python"
    }
  },
  "cells": [
    {
      "cell_type": "markdown",
      "source": [
        "\n",
        "\n",
        "---\n",
        "Savitribai Phule Pune University   \n",
        "Second Year of Computer Engineering (2019 Course) 210246:\n",
        "\n",
        "# **Data Structures Laboratory**\n",
        "---\n",
        "\n",
        "> ### **GROUP-A**\n"
      ],
      "metadata": {
        "id": "LBA6v9F9fcEC"
      }
    },
    {
      "cell_type": "markdown",
      "source": [
        "**Problem Statement:-**\n",
        "\n",
        "Write a Python program for sparse matrix realization and operations on it- Transpose, Fast Transpose and addition of two matrices .\n",
        "\n",
        "\n",
        "---\n",
        "\n"
      ],
      "metadata": {
        "id": "Dm7Zoc0ofEf-"
      }
    },
    {
      "cell_type": "markdown",
      "source": [
        "Define function to insert element "
      ],
      "metadata": {
        "id": "3xU0hZVloRWb"
      }
    },
    {
      "cell_type": "code",
      "source": [
        "import numpy as np\n",
        "def insert_ele(r ,c ):\n",
        "  input_list = []\n",
        "  n1 = int(input(\"Enter number of entries for matrix:- \"))\n",
        "  for i in range(n1):\n",
        "    val = input(\"Enter input in the format of (row  column  value)\").split()\n",
        "    if int(val[0]) <= r and int(val[1]) <= c:\n",
        "      input_list.append(val)\n",
        "    else:\n",
        "      print(\"\\nAgain run the code and Enter valid input\")\n",
        "  return input_list"
      ],
      "metadata": {
        "id": "rTu3_pnVoQDX"
      },
      "execution_count": 1,
      "outputs": []
    },
    {
      "cell_type": "markdown",
      "source": [
        "### Take input from user"
      ],
      "metadata": {
        "id": "l_zYksYYC8p1"
      }
    },
    {
      "cell_type": "code",
      "source": [
        "r1,c1 = map(int, input(\"\\nEnter the row and column of the sparse matrix_A:- \").split())\n",
        "l1 =insert_ele(r1 , c1)\n",
        "\n",
        "r2,c2 = map(int, input(\"\\nEnter the row and column of the sparse matrix_B:- \").split())\n",
        "l2 = insert_ele(r2 ,c2 )\n",
        "\n",
        "\n",
        "dict_A ={}\n",
        "for i in l1:\n",
        "  dict_A[(i[0],i[1])]= int(i[2])\n",
        " \n",
        "\n",
        "dict_B ={}\n",
        "for j in l2:\n",
        "  dict_B[(j[0],j[1])]= int(j[2])\n",
        "\n",
        "print(\"\\nSparse matrix A:-\")\n",
        "print(dict_A)\n",
        "print(\"\\nSparse matrix B:-\")\n",
        "print(dict_B)"
      ],
      "metadata": {
        "colab": {
          "base_uri": "https://localhost:8080/"
        },
        "id": "JDYjjq1Jl359",
        "outputId": "d57f5af8-b096-4893-8c92-efcee4ba398a"
      },
      "execution_count": 2,
      "outputs": [
        {
          "output_type": "stream",
          "name": "stdout",
          "text": [
            "\n",
            "Enter the row and column of the sparse matrix_A:- 3 3\n",
            "Enter number of entries for matrix:- 3\n",
            "Enter input in the format of (row  column  value)1 2 5\n",
            "Enter input in the format of (row  column  value)2 2 8\n",
            "Enter input in the format of (row  column  value)3 3 9\n",
            "\n",
            "Enter the row and column of the sparse matrix_B:- 3 3 \n",
            "Enter number of entries for matrix:- 4 \n",
            "Enter input in the format of (row  column  value)1 1 9\n",
            "Enter input in the format of (row  column  value)2 1  5\n",
            "Enter input in the format of (row  column  value)3 3 7\n",
            "Enter input in the format of (row  column  value)1 0 44\n",
            "\n",
            "Sparse matrix A:-\n",
            "{('1', '2'): 5, ('2', '2'): 8, ('3', '3'): 9}\n",
            "\n",
            "Sparse matrix B:-\n",
            "{('1', '1'): 9, ('2', '1'): 5, ('3', '3'): 7, ('1', '0'): 44}\n"
          ]
        }
      ]
    },
    {
      "cell_type": "markdown",
      "source": [
        "### Fast Transpose"
      ],
      "metadata": {
        "id": "BQcl9v4EoJUP"
      }
    },
    {
      "cell_type": "code",
      "source": [
        "dict_transpose ={}\n",
        "for i in l1:\n",
        "  dict_transpose[(i[1],i[0])]= int(i[2])\n",
        "print(\"\\nTraspose of the matrix A is:-\")\n",
        "print(dict_transpose)"
      ],
      "metadata": {
        "id": "38FcA--9oIiB",
        "colab": {
          "base_uri": "https://localhost:8080/"
        },
        "outputId": "816e22f8-708a-431b-bfd1-c281f1bb64f3"
      },
      "execution_count": 5,
      "outputs": [
        {
          "output_type": "stream",
          "name": "stdout",
          "text": [
            "\n",
            "Traspose of the matrix A is:-\n",
            "{('2', '1'): 5, ('2', '2'): 8, ('3', '3'): 9}\n"
          ]
        }
      ]
    },
    {
      "cell_type": "markdown",
      "source": [
        "##Addition of two sparse matrices"
      ],
      "metadata": {
        "id": "Qa8d8q7KoFZU"
      }
    },
    {
      "cell_type": "code",
      "source": [
        "dict_add = {}\n",
        "if r1==r2 and c1==c2:\n",
        "  for i in l1:\n",
        "    dict_add[(i[0],i[1])]= int(i[2])\n",
        "\n",
        "  for j in l2:\n",
        "    dict_add[(j[0],j[1])]= int(j[2])\n",
        "\n",
        "  for i in l1:\n",
        "    for j in l2:\n",
        "      if i[:2] == j[:2]:\n",
        "        a = i[0]\n",
        "        b = i[1]\n",
        "        c = int(i[2]) + int(j[2])\n",
        "        dict_add[(a,b)] = c\n",
        "print(\"\\nAddition of two sparse matrices:-\") \n",
        "print(dict_add)"
      ],
      "metadata": {
        "id": "BCxEic3eoBt1",
        "colab": {
          "base_uri": "https://localhost:8080/"
        },
        "outputId": "fa9db9a3-5e6d-4dad-fb7a-786a91e2ab1e"
      },
      "execution_count": 8,
      "outputs": [
        {
          "output_type": "stream",
          "name": "stdout",
          "text": [
            "\n",
            "Addition of two sparse matrices:-\n",
            "{('1', '2'): 5, ('2', '2'): 8, ('3', '3'): 16, ('1', '1'): 9, ('2', '1'): 5, ('1', '0'): 44}\n"
          ]
        }
      ]
    }
  ]
}