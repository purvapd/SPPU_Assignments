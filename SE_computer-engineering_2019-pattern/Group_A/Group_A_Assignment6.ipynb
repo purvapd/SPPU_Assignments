{
  "nbformat": 4,
  "nbformat_minor": 0,
  "metadata": {
    "colab": {
      "provenance": [],
      "collapsed_sections": []
    },
    "kernelspec": {
      "name": "python3",
      "display_name": "Python 3"
    },
    "language_info": {
      "name": "python"
    }
  },
  "cells": [
    {
      "cell_type": "markdown",
      "source": [
        "\n",
        "\n",
        "---\n",
        "Savitribai Phule Pune University   \n",
        "Second Year of Computer Engineering (2019 Course) 210246:\n",
        "\n",
        "# **Data Structures Laboratory**\n",
        "---\n",
        "\n",
        "> ### **GROUP-A**\n"
      ],
      "metadata": {
        "id": "LBA6v9F9fcEC"
      }
    },
    {
      "cell_type": "markdown",
      "source": [
        "**Problem Statement:-**\n",
        "\n",
        "It is decided that weekly greetings are to be furnished to wish the students having their birthdays in that week. The consolidated sorted list with desired categorical information is to be provided to the authority. Write a Python program to store students PRNs with \n",
        "date and month of birth. Let List_A and List_B be the two list for two SE Computer divisions. Lists are sorted on date and month. Merge these two lists into third list “List_SE_Comp_DOB” resulting in sorted information about Date of Birth of SE Computer students.\n",
        "\n",
        "\n",
        "\n",
        "---\n",
        "\n"
      ],
      "metadata": {
        "id": "Dm7Zoc0ofEf-"
      }
    },
    {
      "cell_type": "code",
      "source": [
        "from datetime import datetime\n",
        "List_A=[]\n",
        "List_B=[]\n",
        "num_A= int(input(\"Enter Number of student division A:-\"))\n",
        "for i in range(num_A):\n",
        "  PRN, DOB = input(f\"Student-{i+1} PRN No. and Date of birth(PRN DD-MM): \").split()\n",
        "  List_A.append([PRN,DOB])\n",
        "List_A.sort(key = lambda date: datetime.strptime(date[1], \"%d-%m\"))\n",
        "print(\"Sorted List_A\",List_A)\n",
        "print()\n",
        "\n",
        "num_B = int(input(\"Enter Number of student in division B:-\"))\n",
        "for i in range(num_B):\n",
        "  PRN, DOB = input(f\"Student-{i+1} PRN No. and Date of birth(PRN DD-MM): \").split()\n",
        "  List_B.append([PRN,DOB])\n",
        "List_B.sort(key = lambda date: datetime.strptime(date[1], \"%d-%m\"))\n",
        "print(\"Sorted List_B\",List_B)\n",
        "print()\n",
        "  \n",
        "List_SE_Comp_DOB = List_A + List_B\n",
        "List_SE_Comp_DOB.sort(key = lambda date: datetime.strptime(date[1], \"%d-%m\"))\n",
        "print(\"sorted information of SE Computer students:-\",List_SE_Comp_DOB)\n"
      ],
      "metadata": {
        "colab": {
          "base_uri": "https://localhost:8080/"
        },
        "id": "qt3o1aQ0FvuB",
        "outputId": "0a6f6e1a-246f-4204-90f5-7578125dc714"
      },
      "execution_count": 24,
      "outputs": [
        {
          "output_type": "stream",
          "name": "stdout",
          "text": [
            "Enter Number of student division A:-5\n",
            "Student-1 PRN No. and Date of birth(PRN DD-MM): 123 23-02\n",
            "Student-2 PRN No. and Date of birth(PRN DD-MM): 145 31-12\n",
            "Student-3 PRN No. and Date of birth(PRN DD-MM): 161 12-1\n",
            "Student-4 PRN No. and Date of birth(PRN DD-MM): 112 4-10\n",
            "Student-5 PRN No. and Date of birth(PRN DD-MM): 157 8-8\n",
            "Sorted List_A [['161', '12-1'], ['123', '23-02'], ['157', '8-8'], ['112', '4-10'], ['145', '31-12']]\n",
            "\n",
            "Enter Number of student in division B:-4\n",
            "Student-1 PRN No. and Date of birth(PRN DD-MM): 256 9-12\n",
            "Student-2 PRN No. and Date of birth(PRN DD-MM): 278  12-4\n",
            "Student-3 PRN No. and Date of birth(PRN DD-MM): 213  23-9\n",
            "Student-4 PRN No. and Date of birth(PRN DD-MM): 299  15-8\n",
            "Sorted List_B [['278', '12-4'], ['299', '15-8'], ['213', '23-9'], ['256', '9-12']]\n",
            "\n",
            "sorted information of SE Computer students:- [['161', '12-1'], ['123', '23-02'], ['278', '12-4'], ['157', '8-8'], ['299', '15-8'], ['213', '23-9'], ['112', '4-10'], ['256', '9-12'], ['145', '31-12']]\n"
          ]
        }
      ]
    }
  ]
}