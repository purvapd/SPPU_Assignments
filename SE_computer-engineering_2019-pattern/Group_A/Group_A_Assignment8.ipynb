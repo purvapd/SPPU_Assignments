{
  "nbformat": 4,
  "nbformat_minor": 0,
  "metadata": {
    "colab": {
      "provenance": [],
      "collapsed_sections": []
    },
    "kernelspec": {
      "name": "python3",
      "display_name": "Python 3"
    },
    "language_info": {
      "name": "python"
    }
  },
  "cells": [
    {
      "cell_type": "markdown",
      "source": [
        "\n",
        "\n",
        "---\n",
        "Savitribai Phule Pune University   \n",
        "Second Year of Computer Engineering (2019 Course) 210246:\n",
        "\n",
        "# **Data Structures Laboratory**\n",
        "---\n",
        "\n",
        "> ### **GROUP-A**\n"
      ],
      "metadata": {
        "id": "LBA6v9F9fcEC"
      }
    },
    {
      "cell_type": "markdown",
      "source": [
        "**Problem Statement:-**\n",
        "\n",
        "Write a Python program that determines the location of a saddle point of matrix if one exists. An m x n matrix is said to have a saddle point if some entry a[i][j] is the smallest value in row i and the largest value in j. "
      ],
      "metadata": {
        "id": "Dm7Zoc0ofEf-"
      }
    },
    {
      "cell_type": "code",
      "source": [
        "import numpy as np"
      ],
      "metadata": {
        "id": "tDZGq2iwLDNX"
      },
      "execution_count": 44,
      "outputs": []
    },
    {
      "cell_type": "code",
      "source": [
        "def take_input(n):\n",
        "  matrix = np.zeros((n , n) , dtype=int)\n",
        "  print(\"Matrix innput:-\")\n",
        "  for i in range(0,n):\n",
        "    for j in range(0,n):\n",
        "      val = int(input(f\"Enter number at position {i+1,j+1}:-\"))\n",
        "      matrix[i][j] = val\n",
        "  return np.array(matrix)\n"
      ],
      "metadata": {
        "id": "STBa_eYlJ9TR"
      },
      "execution_count": 45,
      "outputs": []
    },
    {
      "cell_type": "code",
      "source": [
        "n = int(input(\"\\n Enter the dimention of the matrix:-\"))\n",
        "matrix = take_input(n)\n",
        "print(matrix)\n",
        "print()\n",
        "for i in range(n):\n",
        "  for j in range(n):\n",
        "    minimum = min(matrix[i])\n",
        "    maximum = max(matrix[:,j])\n",
        "    if minimum == maximum:\n",
        "      print(f\"Saddle point is exist at row-{i+1} and column-{j+1}:-\", minimum)"
      ],
      "metadata": {
        "colab": {
          "base_uri": "https://localhost:8080/"
        },
        "id": "U-c0XP80K_z4",
        "outputId": "912d5238-febf-4a0c-ceef-7c2e63d8489d"
      },
      "execution_count": 46,
      "outputs": [
        {
          "output_type": "stream",
          "name": "stdout",
          "text": [
            "\n",
            " Enter the dimention of the matrix:-3\n",
            "Matrix innput:-\n",
            "Enter number at position (1, 1):-3\n",
            "Enter number at position (1, 2):-4\n",
            "Enter number at position (1, 3):-5\n",
            "Enter number at position (2, 1):-6\n",
            "Enter number at position (2, 2):-7\n",
            "Enter number at position (2, 3):-8\n",
            "Enter number at position (3, 1):-9\n",
            "Enter number at position (3, 2):-10\n",
            "Enter number at position (3, 3):-11\n",
            "[[ 3  4  5]\n",
            " [ 6  7  8]\n",
            " [ 9 10 11]]\n",
            "\n",
            "Saddle point is exist at row-3 and column-1:- 9\n"
          ]
        }
      ]
    }
  ]
}