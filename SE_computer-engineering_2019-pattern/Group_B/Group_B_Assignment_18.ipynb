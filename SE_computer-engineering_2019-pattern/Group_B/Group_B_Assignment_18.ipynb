{
  "nbformat": 4,
  "nbformat_minor": 0,
  "metadata": {
    "colab": {
      "provenance": [],
      "collapsed_sections": []
    },
    "kernelspec": {
      "name": "python3",
      "display_name": "Python 3"
    },
    "language_info": {
      "name": "python"
    }
  },
  "cells": [
    {
      "cell_type": "markdown",
      "source": [
        "\n",
        "\n",
        "---\n",
        "Savitribai Phule Pune University   \n",
        "Second Year of Computer Engineering (2019 Course) 210246:\n",
        "\n",
        "# **Data Structures Laboratory**\n",
        "---\n",
        "\n",
        "> ### **GROUP-B**\n"
      ],
      "metadata": {
        "id": "LBA6v9F9fcEC"
      }
    },
    {
      "cell_type": "markdown",
      "source": [
        "**Problem Statement:-**\n",
        "\n",
        "Write Python program to store 10th class percentage of students in array. Write function \n",
        "for sorting array of floating point numbers in ascending order using radix sort and display \n",
        "top five scores\n",
        "\n",
        "\n",
        "\n",
        "\n",
        "---\n",
        "\n"
      ],
      "metadata": {
        "id": "Dm7Zoc0ofEf-"
      }
    },
    {
      "cell_type": "code",
      "source": [
        "def counting_sort(list1, exp1): \n",
        "  n = len(list1)\n",
        "  output = [0] * (n)\n",
        "  count = [0] * (10)\n",
        "  for i in range(0, n):\n",
        "    index = list1[i] // exp1\n",
        "    count[index % 10] += 1\n",
        "\n",
        "  for i in range(1, 10):\n",
        "    count[i] += count[i - 1]\n",
        "\n",
        "  i = n - 1\n",
        "  while i >= 0:\n",
        "    index = list1[i] // exp1\n",
        "    output[count[index % 10] - 1] = list1[i]\n",
        "    count[index % 10] -= 1\n",
        "    i -= 1\n",
        "\n",
        "  i = 0\n",
        "  for i in range(0, len(list1)):\n",
        "    list1[i] = output[i]\n",
        "\n",
        "def radix_sort(list1):\n",
        "  max1 = max(list1)\n",
        "  exp = 1\n",
        "  while max1 / exp >= 1:\n",
        "    counting_sort(list1, exp)\n",
        "    exp *= 10\n",
        "  return list1"
      ],
      "metadata": {
        "id": "yUdMnop0V7pq"
      },
      "execution_count": 52,
      "outputs": []
    },
    {
      "cell_type": "code",
      "source": [
        "num = int(input(\"\\nEnter number of 10th class students:-\"))\n",
        "\n",
        "student_list = []\n",
        "for i in range(num):\n",
        "  percentage = int(input(f\"Enter percentage of 10th class student-{i+1}  --->\"))\n",
        "  student_list.append(percentage)\n",
        "\n",
        "print(\"\\nCollection of percentage  of 10th class students \")\n",
        "print(student_list)\n",
        "\n",
        "sorted_list_1 = radix_sort(student_list)\n",
        "print(\"\\nTop five percentage of 10th class students using radix sort\")\n",
        "print(sorted_list_1[-1:-6:-1])"
      ],
      "metadata": {
        "colab": {
          "base_uri": "https://localhost:8080/"
        },
        "id": "JIFmXj3yVnMO",
        "outputId": "60488c1f-db90-497f-d297-afc7326a4379"
      },
      "execution_count": 53,
      "outputs": [
        {
          "output_type": "stream",
          "name": "stdout",
          "text": [
            "\n",
            "Enter number of 10th class students:-12\n",
            "Enter percentage of 10th class student-1  --->78\n",
            "Enter percentage of 10th class student-2  --->89\n",
            "Enter percentage of 10th class student-3  --->90\n",
            "Enter percentage of 10th class student-4  --->98\n",
            "Enter percentage of 10th class student-5  --->87\n",
            "Enter percentage of 10th class student-6  --->76\n",
            "Enter percentage of 10th class student-7  --->65\n",
            "Enter percentage of 10th class student-8  --->5\n",
            "Enter percentage of 10th class student-9  --->54\n",
            "Enter percentage of 10th class student-10  --->91\n",
            "Enter percentage of 10th class student-11  --->4\n",
            "Enter percentage of 10th class student-12  --->92\n",
            "\n",
            "Collection of percentage  of 10th class students \n",
            "[78, 89, 90, 98, 87, 76, 65, 5, 54, 91, 4, 92]\n",
            "\n",
            "Top five percentage of 10th class students using radix sort\n",
            "[98, 92, 91, 90, 89]\n"
          ]
        }
      ]
    }
  ]
}