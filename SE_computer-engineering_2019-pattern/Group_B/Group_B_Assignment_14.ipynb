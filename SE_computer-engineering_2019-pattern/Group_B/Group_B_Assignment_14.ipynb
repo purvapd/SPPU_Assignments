{
  "nbformat": 4,
  "nbformat_minor": 0,
  "metadata": {
    "colab": {
      "provenance": [],
      "collapsed_sections": []
    },
    "kernelspec": {
      "name": "python3",
      "display_name": "Python 3"
    },
    "language_info": {
      "name": "python"
    }
  },
  "cells": [
    {
      "cell_type": "markdown",
      "source": [
        "\n",
        "\n",
        "---\n",
        "Savitribai Phule Pune University   \n",
        "Second Year of Computer Engineering (2019 Course) 210246:\n",
        "\n",
        "# **Data Structures Laboratory**\n",
        "---\n",
        "\n",
        "> ### **GROUP-B**\n"
      ],
      "metadata": {
        "id": "LBA6v9F9fcEC"
      }
    },
    {
      "cell_type": "markdown",
      "source": [
        "**Problem Statement:-**\n",
        "\n",
        "Write a Python program to store first year percentage of students in array. Write \n",
        "function for sorting array of floating point numbers in ascending order using \n",
        "\n",
        "a) Selection Sort \n",
        "\n",
        "b) Bubble sort and display top five scores.\n",
        "\n",
        "\n",
        "\n",
        "\n",
        "---\n",
        "\n"
      ],
      "metadata": {
        "id": "Dm7Zoc0ofEf-"
      }
    },
    {
      "cell_type": "code",
      "source": [
        "def selection_sort(list1):  \n",
        "  length = len(list1)      \n",
        "  for i in range(length-1):  \n",
        "    min = i        \n",
        "    for j in range(i+1, length):  \n",
        "      if list1[j]<list1[min]:  \n",
        "          min = j                  \n",
        "    list1[i], list1[min] = list1[min], list1[i]       \n",
        "  return list1  "
      ],
      "metadata": {
        "id": "qx07ExtMTUJt"
      },
      "execution_count": 42,
      "outputs": []
    },
    {
      "cell_type": "code",
      "source": [
        "def bubble_sort(list1):   \n",
        "  for i in range(len(list1)-1):  \n",
        "    for j in range(len(list1)-1):  \n",
        "      if(list1[j]>list1[j+1]):  \n",
        "        temp = list1[j]  \n",
        "        list1[j] = list1[j+1]  \n",
        "        list1[j+1] = temp  \n",
        "  return list1"
      ],
      "metadata": {
        "id": "_68qY1cBTSLn"
      },
      "execution_count": 43,
      "outputs": []
    },
    {
      "cell_type": "code",
      "source": [
        "\n",
        "num = int(input(\"\\nEnter number of first year students:-\"))\n",
        "\n",
        "student_list = []\n",
        "for i in range(num):\n",
        "  percentage = float(input(f\"Enter percentage of first year student-{i+1}  --->\"))\n",
        "  student_list.append(percentage)\n",
        "\n",
        "print(\"\\nCollection of percentage  of first year students \")\n",
        "print(student_list)\n",
        "\n",
        "sorted_list_1 = selection_sort(student_list)\n",
        "print(\"\\nTop five percentage of first year students using selection sort\")\n",
        "print(sorted_list_1[-1:-6:-1])\n",
        "\n",
        "sorted_list_2 = bubble_sort(student_list)\n",
        "print(\"\\nTop five percentage of first year students using bubble sort\")\n",
        "print(sorted_list_2[-1:-6:-1])"
      ],
      "metadata": {
        "colab": {
          "base_uri": "https://localhost:8080/"
        },
        "id": "setyEY2PTKp9",
        "outputId": "d37626ae-90e0-4f1e-eb70-8a7b66441e12"
      },
      "execution_count": 44,
      "outputs": [
        {
          "output_type": "stream",
          "name": "stdout",
          "text": [
            "\n",
            "Enter number of first year students:-10\n",
            "Enter percentage of first year student-1  --->89\n",
            "Enter percentage of first year student-2  --->56\n",
            "Enter percentage of first year student-3  --->90\n",
            "Enter percentage of first year student-4  --->45\n",
            "Enter percentage of first year student-5  --->98\n",
            "Enter percentage of first year student-6  --->78\n",
            "Enter percentage of first year student-7  --->81\n",
            "Enter percentage of first year student-8  --->84\n",
            "Enter percentage of first year student-9  --->82\n",
            "Enter percentage of first year student-10  --->88\n",
            "\n",
            "Collection of percentage  of first year students \n",
            "[89.0, 56.0, 90.0, 45.0, 98.0, 78.0, 81.0, 84.0, 82.0, 88.0]\n",
            "\n",
            "Top five percentage of first year students using selection sort\n",
            "[98.0, 90.0, 89.0, 88.0, 84.0]\n",
            "\n",
            "Top five percentage of first year students using bubble sort\n",
            "[98.0, 90.0, 89.0, 88.0, 84.0]\n"
          ]
        }
      ]
    }
  ]
}