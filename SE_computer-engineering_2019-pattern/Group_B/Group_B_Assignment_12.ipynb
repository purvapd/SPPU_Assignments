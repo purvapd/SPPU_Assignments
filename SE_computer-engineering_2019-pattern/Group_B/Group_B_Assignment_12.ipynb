{
  "nbformat": 4,
  "nbformat_minor": 0,
  "metadata": {
    "colab": {
      "provenance": [],
      "collapsed_sections": []
    },
    "kernelspec": {
      "name": "python3",
      "display_name": "Python 3"
    },
    "language_info": {
      "name": "python"
    }
  },
  "cells": [
    {
      "cell_type": "markdown",
      "source": [
        "\n",
        "\n",
        "---\n",
        "Savitribai Phule Pune University   \n",
        "Second Year of Computer Engineering (2019 Course) 210246:\n",
        "\n",
        "# **Data Structures Laboratory**\n",
        "---\n",
        "\n",
        "> ### **GROUP-B**\n"
      ],
      "metadata": {
        "id": "LBA6v9F9fcEC"
      }
    },
    {
      "cell_type": "markdown",
      "source": [
        "**Problem Statement:-**\n",
        "\n",
        "a)  Write a Python program to store names and mobile numbers of your friends in sorted order on names. Search your friend from list using binary search (recursive and non_recursive). Insert friend if not present in phonebook\n",
        "\n",
        "\n",
        "\n",
        "---\n",
        "\n"
      ],
      "metadata": {
        "id": "Dm7Zoc0ofEf-"
      }
    },
    {
      "cell_type": "code",
      "source": [
        "def non_binary_search(list1, key):\n",
        "  low = 0\n",
        "  high = len(list1) - 1\n",
        "  mid = 0\n",
        "\n",
        "  while low <= high:\n",
        "    mid = (high + low) // 2\n",
        "\n",
        "    if list1[mid] < key:\n",
        "        low = mid + 1\n",
        "    elif list1[mid] > key:\n",
        "        high = mid - 1\n",
        "    else:\n",
        "        return mid+1\n",
        "  return None"
      ],
      "metadata": {
        "id": "PxWE3vDnMeDr"
      },
      "execution_count": 32,
      "outputs": []
    },
    {
      "cell_type": "code",
      "source": [
        "def rec_binary_search(list1, low, high, key):\n",
        "  if high >= low:\n",
        "    mid = (high + low) // 2\n",
        "    if list1[mid] == key:\n",
        "      return mid\n",
        "    elif list1[mid] > key:\n",
        "      return rec_binary_search(list1, low, mid - 1, key)\n",
        "    else:\n",
        "      return rec_binary_search(list1, mid + 1, high, key)\n",
        "  else:\n",
        "    return None"
      ],
      "metadata": {
        "id": "SZYaUBNEMrkF"
      },
      "execution_count": 33,
      "outputs": []
    },
    {
      "cell_type": "code",
      "source": [
        "num = int(input(\"\\nEnter number of friends:-\"))\n",
        "\n",
        "friend_dict ={}\n",
        "for i in range(num):\n",
        "  name, mobile_no = input(f\"Enter Name and Mobile Number of friend-{i+1}-->\").split()\n",
        "  if len(mobile_no) == 10:\n",
        "    friend_dict[name] = mobile_no\n",
        "  else:\n",
        "    print(\"Enter valid Mobile Number\")\n",
        "\n",
        "print(\"\\nCollection of name and mobile number of friends\")\n",
        "print(sorted(friend_dict.items()))\n",
        "\n",
        "list1 = sorted(friend_dict.keys())\n",
        "\n",
        "key = input(\"\\nEnter name of the friend which you want to search:-\")\n",
        "choice = int(input(\"\\n Enter 1 for Non Recursive Binary Search\\n       2 for Recursive Binary Search \"))\n",
        "if choice == 1:\n",
        "  func = non_binary_search(list1,key)\n",
        "elif choice ==2:\n",
        "  func = rec_binary_search(list1, 0 , len(list1),key)\n",
        "else:\n",
        "  print(\"Enter correct choice\")\n",
        "\n",
        "\n",
        "if func == None:\n",
        "  print(f\"\\nFriend with name {key} is not found\")\n",
        "  mobile_no = input(f\"Enter Mobile number of friend {key}:-\")\n",
        "  if len(mobile_no) == 10:\n",
        "    friend_dict[key] = mobile_no\n",
        "    print(f\"\\nCollection of name and mobile number of friends after adding friend {key}\")\n",
        "    print(sorted(friend_dict.items()))\n",
        "  else:\n",
        "    print(\"Enter valid Mobile Number\")\n",
        "\n",
        "else:\n",
        "  print(\"\\nFriend with name found at position-\", func)"
      ],
      "metadata": {
        "colab": {
          "base_uri": "https://localhost:8080/"
        },
        "id": "YoJ1TmMRMoLQ",
        "outputId": "40950b89-81d9-4058-b7af-7f0408436d98"
      },
      "execution_count": 34,
      "outputs": [
        {
          "output_type": "stream",
          "name": "stdout",
          "text": [
            "\n",
            "Enter number of friends:-5\n",
            "Enter Name and Mobile Number of friend-1-->sham 1234567890\n",
            "Enter Name and Mobile Number of friend-2-->ram 5434567890\n",
            "Enter Name and Mobile Number of friend-3-->kit 4321678976\n",
            "Enter Name and Mobile Number of friend-4-->vina 6789034567\n",
            "Enter Name and Mobile Number of friend-5-->raj 5467890987\n",
            "\n",
            "Collection of name and mobile number of friends\n",
            "[('kit', '4321678976'), ('raj', '5467890987'), ('ram', '5434567890'), ('sham', '1234567890'), ('vina', '6789034567')]\n",
            "\n",
            "Enter name of the friend which you want to search:-rani\n",
            "\n",
            " Enter 1 for Non Recursive Binary Search\n",
            "       2 for Recursive Binary Search 1\n",
            "\n",
            "Friend with name rani is not found\n",
            "Enter Mobile number of friend rani:-6787878765\n",
            "\n",
            "Collection of name and mobile number of friends after adding friend rani\n",
            "[('kit', '4321678976'), ('raj', '5467890987'), ('ram', '5434567890'), ('rani', '6787878765'), ('sham', '1234567890'), ('vina', '6789034567')]\n"
          ]
        }
      ]
    },
    {
      "cell_type": "markdown",
      "source": [
        "**Problem Statement:-**\n",
        "\n",
        "b)Write a Python program to store names and mobile numbers of your friends in sorted order on names. Search your friend from list using Fibonacci search. Insert friend if not \n",
        "present in phonebook.\n",
        "\n",
        "\n",
        "\n",
        "---\n",
        "\n",
        "\n",
        "\n",
        "\n"
      ],
      "metadata": {
        "id": "V3voPvu6EwNf"
      }
    },
    {
      "cell_type": "code",
      "source": [
        "def fibonacci_search(list1, key):\n",
        "  size = len(list1)    \n",
        "  start = -1\n",
        "    \n",
        "  f0 = 0\n",
        "  f1 = 1\n",
        "  f2 = 1\n",
        "  while(f2 < size):\n",
        "    f0 = f1\n",
        "    f1 = f2\n",
        "    f2 = f1 + f0    \n",
        "    \n",
        "  while(f2 > 1):\n",
        "    index = min(start + f0, size - 1)\n",
        "    if list1[index] < key:\n",
        "      f2 = f1\n",
        "      f1 = f0\n",
        "      f0 = f2 - f1\n",
        "      start = index\n",
        "    elif list1[index] > key:\n",
        "      f2 = f0\n",
        "      f1 = f1 - f0\n",
        "      f0 = f2 - f1\n",
        "    else:\n",
        "      return index+1\n",
        "  if (f1) and (list1[size - 1] == key):\n",
        "    return size\n",
        "  return None"
      ],
      "metadata": {
        "id": "bHIveR-CNpD9"
      },
      "execution_count": 35,
      "outputs": []
    },
    {
      "cell_type": "code",
      "source": [
        "num = int(input(\"\\nEnter number of friends:-\"))\n",
        "\n",
        "friend_dict ={}\n",
        "for i in range(num):\n",
        "  name, mobile_no = input(f\"Enter Name and Mobile Number of friend-{i+1}-->\").split()\n",
        "  if len(mobile_no) == 10:\n",
        "    friend_dict[name] = mobile_no\n",
        "  else:\n",
        "    print(\"Enter valid Mobile Number\")\n",
        "\n",
        "print(\"\\nCollection of name and mobile number of friends\")\n",
        "print(sorted(friend_dict.items()))\n",
        "\n",
        "list1 = sorted(friend_dict.keys())\n",
        "\n",
        "key = input(\"\\nEnter name of the friend which you want to search:-\")\n",
        "\n",
        "if fibonacci_search(list1, key) == None:\n",
        "  print(f\"\\nFriend with name {key} is not found\")\n",
        "  mobile_no = input(f\"Enter Mobile number of friend {key}:-\")\n",
        "  if len(mobile_no) == 10:\n",
        "    friend_dict[key] = mobile_no\n",
        "    print(f\"\\nCollection of name and mobile number of friends after adding friend {key}\")\n",
        "    print(sorted(friend_dict.items()))\n",
        "  else:\n",
        "    print(\"Enter valid Mobile Number\")\n",
        "\n",
        "else:\n",
        "  print(\"\\nFriend with name found at position-\", fibonacci_search(list1, key))\n"
      ],
      "metadata": {
        "colab": {
          "base_uri": "https://localhost:8080/"
        },
        "id": "cXhKyb9gNjHg",
        "outputId": "3a67098e-f2e2-4b94-ac7c-b35ffda70fd4"
      },
      "execution_count": 36,
      "outputs": [
        {
          "output_type": "stream",
          "name": "stdout",
          "text": [
            "\n",
            "Enter number of friends:-4\n",
            "Enter Name and Mobile Number of friend-1-->rani 9876543210\n",
            "Enter Name and Mobile Number of friend-2-->lap 9549876543\n",
            "Enter Name and Mobile Number of friend-3-->esha 9786546789\n",
            "Enter Name and Mobile Number of friend-4-->juhi 7789098765\n",
            "\n",
            "Collection of name and mobile number of friends\n",
            "[('esha', '9786546789'), ('juhi', '7789098765'), ('lap', '9549876543'), ('rani', '9876543210')]\n",
            "\n",
            "Enter name of the friend which you want to search:-lara\n",
            "\n",
            "Friend with name lara is not found\n",
            "Enter Mobile number of friend lara:-9434567898\n",
            "\n",
            "Collection of name and mobile number of friends after adding friend lara\n",
            "[('esha', '9786546789'), ('juhi', '7789098765'), ('lap', '9549876543'), ('lara', '9434567898'), ('rani', '9876543210')]\n"
          ]
        }
      ]
    }
  ]
}