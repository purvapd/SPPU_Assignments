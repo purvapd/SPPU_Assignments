{
  "nbformat": 4,
  "nbformat_minor": 0,
  "metadata": {
    "colab": {
      "provenance": [],
      "collapsed_sections": []
    },
    "kernelspec": {
      "name": "python3",
      "display_name": "Python 3"
    },
    "language_info": {
      "name": "python"
    }
  },
  "cells": [
    {
      "cell_type": "markdown",
      "source": [
        "\n",
        "\n",
        "---\n",
        "Savitribai Phule Pune University   \n",
        "Second Year of Computer Engineering (2019 Course) 210246:\n",
        "\n",
        "# **Data Structures Laboratory**\n",
        "---\n",
        "\n",
        "> ### **GROUP-B**\n"
      ],
      "metadata": {
        "id": "LBA6v9F9fcEC"
      }
    },
    {
      "cell_type": "markdown",
      "source": [
        "**Problem Statement:-**\n",
        "\n",
        "Write a Python program to maintain club members, sort on roll numbers in ascending \n",
        "order. Write function “Ternary_Search” to search whether particular student is member \n",
        "of club or not. Ternary search is modified binary search that divides array into 3 halves \n",
        "instead of two.\n",
        "\n",
        "\n",
        "\n",
        "\n",
        "---\n",
        "\n"
      ],
      "metadata": {
        "id": "Dm7Zoc0ofEf-"
      }
    },
    {
      "cell_type": "code",
      "source": [
        "def ternarySearch(low, high, key, list1):\n",
        "  while high >= low:\n",
        "      \n",
        "    mid1 = low + (high-low) // 3\n",
        "    mid2 = high - (high-low) // 3\n",
        "\n",
        "    if key == list1[mid1]:\n",
        "      return mid1\n",
        "    if key == mid2:\n",
        "      return mid2\n",
        "    if key < list1[mid1]:\n",
        "      high = mid1 - 1\n",
        "    elif key > list1[mid2]:\n",
        "      low = mid2 + 1\n",
        "    else:\n",
        "      low = mid1 + 1\n",
        "      high = mid2 - 1\n",
        "  return None"
      ],
      "metadata": {
        "id": "TM1J1yZlPNl4"
      },
      "execution_count": 39,
      "outputs": []
    },
    {
      "cell_type": "code",
      "source": [
        "num = int(input(\"\\nEnter number of students:-\"))\n",
        "\n",
        "club_members = []\n",
        "for i in range(num):\n",
        "  roll_no = int(input(f\"Enter Roll_No of student-{i+1}  --->\"))\n",
        "  club_members.append(roll_no)\n",
        "\n",
        "\n",
        "print(\"\\nCollection of Roll_No of student \")\n",
        "print(sorted(club_members))\n",
        "\n",
        "list1 = sorted(club_members)\n",
        "key = int(input(\"\\nEnter Roll_No of student which you want to search:-\"))\n",
        "\n",
        "if ternarySearch(0, len(list1),key,1 list1) == None:\n",
        "  print(f\"\\nStudent with roll_no {key} is not member of club\")\n",
        "else:\n",
        "  print(f\"\\nStudent with roll_no {key} is member of club\")"
      ],
      "metadata": {
        "colab": {
          "base_uri": "https://localhost:8080/"
        },
        "id": "rhTpl21TO9p6",
        "outputId": "afbbb1ae-3772-4d7e-e5ef-90107986d852"
      },
      "execution_count": 41,
      "outputs": [
        {
          "output_type": "stream",
          "name": "stdout",
          "text": [
            "\n",
            "Enter number of students:-5\n",
            "Enter Roll_No of student-1  --->121\n",
            "Enter Roll_No of student-2  --->165\n",
            "Enter Roll_No of student-3  --->189\n",
            "Enter Roll_No of student-4  --->154\n",
            "Enter Roll_No of student-5  --->11\n",
            "\n",
            "Collection of Roll_No of student \n",
            "[11, 121, 154, 165, 189]\n",
            "\n",
            "Enter Roll_No of student which you want to search:-121\n",
            "\n",
            "Student with roll_no 121 is member of club\n"
          ]
        }
      ]
    }
  ]
}