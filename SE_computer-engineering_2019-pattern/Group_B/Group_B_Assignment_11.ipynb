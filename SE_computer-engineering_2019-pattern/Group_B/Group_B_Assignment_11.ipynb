{
  "nbformat": 4,
  "nbformat_minor": 0,
  "metadata": {
    "colab": {
      "provenance": [],
      "collapsed_sections": []
    },
    "kernelspec": {
      "name": "python3",
      "display_name": "Python 3"
    },
    "language_info": {
      "name": "python"
    }
  },
  "cells": [
    {
      "cell_type": "markdown",
      "source": [
        "\n",
        "\n",
        "---\n",
        "Savitribai Phule Pune University   \n",
        "Second Year of Computer Engineering (2019 Course) 210246:\n",
        "\n",
        "# **Data Structures Laboratory**\n",
        "---\n",
        "\n",
        "> ### **GROUP-B**\n"
      ],
      "metadata": {
        "id": "LBA6v9F9fcEC"
      }
    },
    {
      "cell_type": "markdown",
      "source": [
        "**Problem Statement:-**\n",
        "\n",
        "a) Write a Python program to store roll numbers of student in array who attended training program in random order. Write function for searching whether particular student attended training program or not, using Linear search and Sentinel search. \n",
        "\n",
        "\n",
        "\n",
        "---\n",
        "\n"
      ],
      "metadata": {
        "id": "Dm7Zoc0ofEf-"
      }
    },
    {
      "cell_type": "code",
      "source": [
        "def linear_Search(list1, key): \n",
        "  for i in range(len(list1)): \n",
        "    if (list1[i] == key):\n",
        "      return i\n",
        "  return None"
      ],
      "metadata": {
        "id": "l_P_0h9QFMgH"
      },
      "execution_count": 9,
      "outputs": []
    },
    {
      "cell_type": "code",
      "source": [
        "def sentinel_Search(list1, key):\n",
        "  n = len(list1)\n",
        "  last = list1[n - 1]\n",
        "  list1[n - 1] = key\n",
        "  i = 0\n",
        "  while (list1[i] != key):\n",
        "    i += 1\n",
        "  list1[n - 1] = last\n",
        "\n",
        "  if ((i < n - 1) or (list1[n - 1] == key)):\n",
        "    return i\n",
        "  else:\n",
        "    return None"
      ],
      "metadata": {
        "id": "zhd2Xw0yFPzx"
      },
      "execution_count": 10,
      "outputs": []
    },
    {
      "cell_type": "code",
      "source": [
        "num = int(input(\"\\nEnter numbers of students who attended training program :-\"))\n",
        "RollNo_list =[]\n",
        "for i in range(num):\n",
        "  roll_no = int(input(f\"Enter roll numbers of student-{i+1}:-\"))\n",
        "  RollNo_list.append(roll_no)\n",
        "\n",
        "print(\"\\nList of roll numbers of students:-\")\n",
        "print(RollNo_list)\n",
        "\n",
        "\n",
        "key = int(input(\"\\nEnter roll_no of student want to search:-\"))\n",
        "\n",
        "print(\"\\nLinear Search --> ROll_No found at position:-\",linear_Search(RollNo_list,key)) \n",
        "print(\"\\nSentinel Search --> ROll_No found at position:-\",sentinel_Search(RollNo_list,key))\n",
        " \n"
      ],
      "metadata": {
        "colab": {
          "base_uri": "https://localhost:8080/"
        },
        "id": "lYJBUZ8HFH8s",
        "outputId": "46451c45-1393-4f01-a27c-368180f767aa"
      },
      "execution_count": 11,
      "outputs": [
        {
          "output_type": "stream",
          "name": "stdout",
          "text": [
            "\n",
            "Enter numbers of students who attended training program :-10\n",
            "Enter roll numbers of student-1:-122022014\n",
            "Enter roll numbers of student-2:-122022010\n",
            "Enter roll numbers of student-3:-122022011\n",
            "Enter roll numbers of student-4:-122022071\n",
            "Enter roll numbers of student-5:-122022001\n",
            "Enter roll numbers of student-6:-122022023\n",
            "Enter roll numbers of student-7:-122022090\n",
            "Enter roll numbers of student-8:-122022044\n",
            "Enter roll numbers of student-9:-122022012\n",
            "Enter roll numbers of student-10:-122022030\n",
            "\n",
            "List of roll numbers of students:-\n",
            "[122022014, 122022010, 122022011, 122022071, 122022001, 122022023, 122022090, 122022044, 122022012, 122022030]\n",
            "\n",
            "Enter roll_no of student want to search:-122022071\n",
            "\n",
            "Linear Search --> ROll_No found at position:- 3\n",
            "\n",
            "Sentinel Search --> ROll_No found at position:- 3\n"
          ]
        }
      ]
    },
    {
      "cell_type": "markdown",
      "source": [
        "**Problem Statement:-**\n",
        "\n",
        "b) Write a Python program to store roll numbers of student array who attended training \n",
        "program in sorted order. Write function for searching whether particular student \n",
        "attended training program or not, using Binary search and Fibonacci search\n",
        "\n",
        "\n",
        "---\n",
        "\n",
        "\n",
        "\n",
        "\n"
      ],
      "metadata": {
        "id": "V3voPvu6EwNf"
      }
    },
    {
      "cell_type": "code",
      "source": [
        "def binary_search(list1, key):\n",
        "  low = 0\n",
        "  high = len(list1) - 1\n",
        "  mid = 0\n",
        "\n",
        "  while low <= high:\n",
        "\n",
        "    mid = (high + low) // 2\n",
        "\n",
        "    if list1[mid] < key:\n",
        "        low = mid + 1\n",
        "    elif list1[mid] > key:\n",
        "        high = mid - 1\n",
        "    else:\n",
        "        return mid\n",
        "\n",
        "  return None\n",
        "\n"
      ],
      "metadata": {
        "id": "hMm4gfHcFsaK"
      },
      "execution_count": 26,
      "outputs": []
    },
    {
      "cell_type": "code",
      "source": [
        "def fibonacci_search(list1, key):\n",
        "  size = len(list1)    \n",
        "  start = -1\n",
        "    \n",
        "  f0 = 0\n",
        "  f1 = 1\n",
        "  f2 = 1\n",
        "  while(f2 < size):\n",
        "    f0 = f1\n",
        "    f1 = f2\n",
        "    f2 = f1 + f0    \n",
        "    \n",
        "  while(f2 > 1):\n",
        "    index = min(start + f0, size - 1)\n",
        "    if list1[index] < key:\n",
        "      f2 = f1\n",
        "      f1 = f0\n",
        "      f0 = f2 - f1\n",
        "      start = index\n",
        "    elif list1[index] > key:\n",
        "      f2 = f0\n",
        "      f1 = f1 - f0\n",
        "      f0 = f2 - f1\n",
        "    else:\n",
        "      return index\n",
        "  if (f1) and (list1[size - 1] == key):\n",
        "    return size\n",
        "  return None"
      ],
      "metadata": {
        "id": "BJiqMI7VFzmp"
      },
      "execution_count": 29,
      "outputs": []
    },
    {
      "cell_type": "code",
      "source": [
        "num = int(input(\"\\nEnter numbers of students who attended training program :-\"))\n",
        "RollNo_list =[]\n",
        "for i in range(num):\n",
        "  roll_no = int(input(f\"Enter roll numbers of student-{i+1}:-\"))\n",
        "  RollNo_list.append(roll_no)\n",
        "\n",
        "print(\"\\nList of roll numbers of students:-\")\n",
        "print(RollNo_list)\n",
        "\n",
        "key = int(input(\"\\nEnter roll_no of student want to search:-\"))\n",
        "\n",
        "print(\"\\nBinary Search --> ROll_No found at position:-\",binary_search(RollNo_list,key))\n",
        "print(\"\\nFibonacci Search --> ROll_No found at position:-\",fibonacci_search(RollNo_list,key))"
      ],
      "metadata": {
        "colab": {
          "base_uri": "https://localhost:8080/"
        },
        "id": "WJlqoN0KF0JV",
        "outputId": "2b41e346-abb3-4bcf-9217-e56ec77be390"
      },
      "execution_count": 31,
      "outputs": [
        {
          "output_type": "stream",
          "name": "stdout",
          "text": [
            "\n",
            "Enter numbers of students who attended training program :-7\n",
            "Enter roll numbers of student-1:-122022001\n",
            "Enter roll numbers of student-2:-122022089\n",
            "Enter roll numbers of student-3:-122022065\n",
            "Enter roll numbers of student-4:-122022078\n",
            "Enter roll numbers of student-5:-122022045\n",
            "Enter roll numbers of student-6:-122022044\n",
            "Enter roll numbers of student-7:-122022022\n",
            "\n",
            "List of roll numbers of students:-\n",
            "[122022001, 122022089, 122022065, 122022078, 122022045, 122022044, 122022022]\n",
            "\n",
            "Enter roll_no of student want to search:-122022001\n",
            "\n",
            "Binary Search --> ROll_No found at position:- 0\n",
            "\n",
            "Fibonacci Search --> ROll_No found at position:- 0\n"
          ]
        }
      ]
    }
  ]
}