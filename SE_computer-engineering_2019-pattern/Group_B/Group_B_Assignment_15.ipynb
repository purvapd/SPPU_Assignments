{
  "nbformat": 4,
  "nbformat_minor": 0,
  "metadata": {
    "colab": {
      "provenance": [],
      "collapsed_sections": []
    },
    "kernelspec": {
      "name": "python3",
      "display_name": "Python 3"
    },
    "language_info": {
      "name": "python"
    }
  },
  "cells": [
    {
      "cell_type": "markdown",
      "source": [
        "\n",
        "\n",
        "---\n",
        "Savitribai Phule Pune University   \n",
        "Second Year of Computer Engineering (2019 Course) 210246:\n",
        "\n",
        "# **Data Structures Laboratory**\n",
        "---\n",
        "\n",
        "> ### **GROUP-B**\n"
      ],
      "metadata": {
        "id": "LBA6v9F9fcEC"
      }
    },
    {
      "cell_type": "markdown",
      "source": [
        "**Problem Statement:-**\n",
        "\n",
        "Write a Python program to store second year percentage of students in array. Write \n",
        "function for sorting array of floating point numbers in ascending order using \n",
        "\n",
        "a) Insertion sort \n",
        "\n",
        "b) Shell Sort and display top five scores\n",
        "\n",
        "\n",
        "\n",
        "\n",
        "---\n",
        "\n"
      ],
      "metadata": {
        "id": "Dm7Zoc0ofEf-"
      }
    },
    {
      "cell_type": "code",
      "source": [
        "def insertion_sort(list1):\n",
        "  for i in range(1,len(list1)):\n",
        "    ele = list1[i]\n",
        "    j = i-1\n",
        "    while j >=0 and ele < list1[j] :\n",
        "            list1[j+1] = list1[j]\n",
        "            j -= 1\n",
        "    list1[j+1] = ele\n",
        "  return list1"
      ],
      "metadata": {
        "id": "mnzyxAftT1rT"
      },
      "execution_count": 45,
      "outputs": []
    },
    {
      "cell_type": "code",
      "source": [
        "def shell_sort(list1):\n",
        "  interval = len(list1) // 2\n",
        "  while interval > 0:\n",
        "    for i in range(interval, len(list1)):\n",
        "      temp = list1[i]\n",
        "      j = i\n",
        "      while j >= interval and list1[j - interval] > temp:\n",
        "        list1[j] = list1[j - interval]\n",
        "        j -= interval\n",
        "      list1[j] = temp\n",
        "    interval //= 2\n",
        "  return list1"
      ],
      "metadata": {
        "id": "tG9d5o0uT3ik"
      },
      "execution_count": 46,
      "outputs": []
    },
    {
      "cell_type": "code",
      "source": [
        "num = int(input(\"\\nEnter number of second year students:-\"))\n",
        "\n",
        "student_list = []\n",
        "for i in range(num):\n",
        "  percentage = float(input(f\"Enter percentage of second year student-{i+1}  --->\"))\n",
        "  student_list.append(percentage)\n",
        "\n",
        "print(\"\\nCollection of percentage  of second year students \")\n",
        "print(student_list)\n",
        "\n",
        "sorted_list_1 = insertion_sort(student_list)\n",
        "print(\"\\nTop five percentage of second year students using insertion sort\")\n",
        "print(sorted_list_1[-1:-6:-1])\n",
        "\n",
        "sorted_list_2 = shell_sort(student_list)\n",
        "print(\"\\nTop five percentage of second year students using shell sort\")\n",
        "print(sorted_list_2[-1:-6:-1])"
      ],
      "metadata": {
        "colab": {
          "base_uri": "https://localhost:8080/"
        },
        "id": "TAFbrlIFTxrC",
        "outputId": "49ab6995-a176-4f15-a561-ba958f9cc9c4"
      },
      "execution_count": 47,
      "outputs": [
        {
          "output_type": "stream",
          "name": "stdout",
          "text": [
            "\n",
            "Enter number of second year students:-15\n",
            "Enter percentage of second year student-1  --->67\n",
            "Enter percentage of second year student-2  --->78\n",
            "Enter percentage of second year student-3  --->87\n",
            "Enter percentage of second year student-4  --->90\n",
            "Enter percentage of second year student-5  --->45\n",
            "Enter percentage of second year student-6  --->34\n",
            "Enter percentage of second year student-7  --->76\n",
            "Enter percentage of second year student-8  --->90\n",
            "Enter percentage of second year student-9  --->98\n",
            "Enter percentage of second year student-10  --->66\n",
            "Enter percentage of second year student-11  --->56\n",
            "Enter percentage of second year student-12  --->12\n",
            "Enter percentage of second year student-13  --->91\n",
            "Enter percentage of second year student-14  --->92\n",
            "Enter percentage of second year student-15  --->89\n",
            "\n",
            "Collection of percentage  of second year students \n",
            "[67.0, 78.0, 87.0, 90.0, 45.0, 34.0, 76.0, 90.0, 98.0, 66.0, 56.0, 12.0, 91.0, 92.0, 89.0]\n",
            "\n",
            "Top five percentage of second year students using insertion sort\n",
            "[98.0, 92.0, 91.0, 90.0, 90.0]\n",
            "\n",
            "Top five percentage of second year students using shell sort\n",
            "[98.0, 92.0, 91.0, 90.0, 90.0]\n"
          ]
        }
      ]
    }
  ]
}