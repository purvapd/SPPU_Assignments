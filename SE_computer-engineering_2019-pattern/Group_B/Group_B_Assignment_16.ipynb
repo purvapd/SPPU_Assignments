{
  "nbformat": 4,
  "nbformat_minor": 0,
  "metadata": {
    "colab": {
      "provenance": [],
      "collapsed_sections": []
    },
    "kernelspec": {
      "name": "python3",
      "display_name": "Python 3"
    },
    "language_info": {
      "name": "python"
    }
  },
  "cells": [
    {
      "cell_type": "markdown",
      "source": [
        "\n",
        "\n",
        "---\n",
        "Savitribai Phule Pune University   \n",
        "Second Year of Computer Engineering (2019 Course) 210246:\n",
        "\n",
        "# **Data Structures Laboratory**\n",
        "---\n",
        "\n",
        "> ### **GROUP-B**\n"
      ],
      "metadata": {
        "id": "LBA6v9F9fcEC"
      }
    },
    {
      "cell_type": "markdown",
      "source": [
        "**Problem Statement:-**\n",
        "\n",
        "Write a Python program to store first year percentage of students in array. Write \n",
        "function for sorting array of floating point numbers in ascending order using quick sort \n",
        "and display top five scores.\n",
        "\n",
        "\n",
        "\n",
        "---\n",
        "\n"
      ],
      "metadata": {
        "id": "Dm7Zoc0ofEf-"
      }
    },
    {
      "cell_type": "code",
      "source": [
        "def partition(list1,low,high):\n",
        "  i = low-1 \n",
        "  pivot = list1[high]\n",
        "  for j in range(low , high):\n",
        "    if list1[j] <= pivot:\n",
        "      i = i+1\n",
        "      list1[i],list1[j] = list1[j],list1[i]\n",
        "  list1[i+1],list1[high] = list1[high],list1[i+1]\n",
        "  return i+1\n",
        "\n",
        "def quick_sort(list1,low,high):\n",
        "  if low < high:\n",
        "    part = partition(list1,low,high)\n",
        "    quick_sort(list1, low, part-1)\n",
        "    quick_sort(list1, part+1, high)\n",
        "  return list1"
      ],
      "metadata": {
        "id": "j1zGRgMjUzTR"
      },
      "execution_count": 48,
      "outputs": []
    },
    {
      "cell_type": "code",
      "source": [
        "num = int(input(\"\\nEnter number of first year students:-\"))\n",
        "\n",
        "student_list = []\n",
        "for i in range(num):\n",
        "  percentage = float(input(f\"Enter percentage of first year student-{i+1}  --->\"))\n",
        "  student_list.append(percentage)\n",
        "\n",
        "print(\"\\nCollection of percentage  of first year students \")\n",
        "print(student_list)\n",
        "\n",
        "sorted_list_1 = quick_sort(student_list,0,len(student_list)-1)\n",
        "print(\"\\nTop five percentage of first year students using quick sort\")\n",
        "print(sorted_list_1[-1:-6:-1])"
      ],
      "metadata": {
        "colab": {
          "base_uri": "https://localhost:8080/"
        },
        "id": "23FoZf_HUsxM",
        "outputId": "6eee7fa6-2e20-49d9-ffa6-857171f5d3ab"
      },
      "execution_count": 49,
      "outputs": [
        {
          "output_type": "stream",
          "name": "stdout",
          "text": [
            "\n",
            "Enter number of first year students:-10\n",
            "Enter percentage of first year student-1  --->77\n",
            "Enter percentage of first year student-2  --->70\n",
            "Enter percentage of first year student-3  --->98\n",
            "Enter percentage of first year student-4  --->90\n",
            "Enter percentage of first year student-5  --->91\n",
            "Enter percentage of first year student-6  --->93\n",
            "Enter percentage of first year student-7  --->78\n",
            "Enter percentage of first year student-8  --->88\n",
            "Enter percentage of first year student-9  --->90\n",
            "Enter percentage of first year student-10  --->76\n",
            "\n",
            "Collection of percentage  of first year students \n",
            "[77.0, 70.0, 98.0, 90.0, 91.0, 93.0, 78.0, 88.0, 90.0, 76.0]\n",
            "\n",
            "Top five percentage of first year students using quick sort\n",
            "[98.0, 93.0, 91.0, 90.0, 90.0]\n"
          ]
        }
      ]
    }
  ]
}