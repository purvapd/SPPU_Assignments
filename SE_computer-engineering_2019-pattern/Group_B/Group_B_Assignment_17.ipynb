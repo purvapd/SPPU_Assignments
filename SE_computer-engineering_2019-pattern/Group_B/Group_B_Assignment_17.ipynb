{
  "nbformat": 4,
  "nbformat_minor": 0,
  "metadata": {
    "colab": {
      "provenance": [],
      "collapsed_sections": []
    },
    "kernelspec": {
      "name": "python3",
      "display_name": "Python 3"
    },
    "language_info": {
      "name": "python"
    }
  },
  "cells": [
    {
      "cell_type": "markdown",
      "source": [
        "\n",
        "\n",
        "---\n",
        "Savitribai Phule Pune University   \n",
        "Second Year of Computer Engineering (2019 Course) 210246:\n",
        "\n",
        "# **Data Structures Laboratory**\n",
        "---\n",
        "\n",
        "> ### **GROUP-B**\n"
      ],
      "metadata": {
        "id": "LBA6v9F9fcEC"
      }
    },
    {
      "cell_type": "markdown",
      "source": [
        "**Problem Statement:-**\n",
        "\n",
        "Write a Python program to store 12th class percentage of students in array. Write \n",
        "function for sorting array of floating point numbers in ascending order using bucket sort \n",
        "and display top five scores.\n",
        "\n",
        "\n",
        "\n",
        "\n",
        "---\n",
        "\n"
      ],
      "metadata": {
        "id": "Dm7Zoc0ofEf-"
      }
    },
    {
      "cell_type": "code",
      "source": [
        "def bucket_sort(list1):\n",
        "  largest = max(list1)\n",
        "  length = len(list1)\n",
        "  size = largest/length\n",
        "\n",
        "  buckets = [[] for _ in range(length)]\n",
        "  for i in range(length):\n",
        "    j = int(list1[i]/size)\n",
        "    if j != length:\n",
        "      buckets[j].append(list1[i])\n",
        "    else:\n",
        "      buckets[length - 1].append(list1[i])\n",
        "\n",
        "  for i in range(length):\n",
        "    insertion_sort(buckets[i])\n",
        "\n",
        "  result = []\n",
        "  for i in range(length):\n",
        "    result = result + buckets[i]\n",
        "\n",
        "  return result\n",
        " \n",
        "def insertion_sort(list1):\n",
        "  for i in range(1, len(list1)):\n",
        "    temp = list1[i]\n",
        "    j = i - 1\n",
        "    while (j >= 0 and temp < list1[j]):\n",
        "      list1[j + 1] = list1[j]\n",
        "      j = j - 1\n",
        "    list1[j + 1] = temp\n"
      ],
      "metadata": {
        "id": "XHICPdu-VRcb"
      },
      "execution_count": 50,
      "outputs": []
    },
    {
      "cell_type": "code",
      "source": [
        "num = int(input(\"\\nEnter number of 12th class students:-\"))\n",
        "\n",
        "student_list = []\n",
        "for i in range(num):\n",
        "  percentage = float(input(f\"Enter percentage of 12th class student-{i+1}  --->\"))\n",
        "  student_list.append(percentage)\n",
        "\n",
        "print(\"\\nCollection of percentage  of 12th class students \")\n",
        "print(student_list)\n",
        "\n",
        "sorted_list_1 = bucket_sort(student_list)\n",
        "print(\"\\nTop five percentage of 12th class students using bucket sort\")\n",
        "print(sorted_list_1[-1:-6:-1])"
      ],
      "metadata": {
        "colab": {
          "base_uri": "https://localhost:8080/"
        },
        "id": "WR8eMq4MVNzP",
        "outputId": "42476382-9d81-427c-bf8d-eb420a204f31"
      },
      "execution_count": 51,
      "outputs": [
        {
          "output_type": "stream",
          "name": "stdout",
          "text": [
            "\n",
            "Enter number of 12th class students:-15\n",
            "Enter percentage of 12th class student-1  --->90\n",
            "Enter percentage of 12th class student-2  --->34\n",
            "Enter percentage of 12th class student-3  --->67\n",
            "Enter percentage of 12th class student-4  --->89\n",
            "Enter percentage of 12th class student-5  --->87\n",
            "Enter percentage of 12th class student-6  --->98\n",
            "Enter percentage of 12th class student-7  --->45\n",
            "Enter percentage of 12th class student-8  --->67\n",
            "Enter percentage of 12th class student-9  --->89\n",
            "Enter percentage of 12th class student-10  --->98\n",
            "Enter percentage of 12th class student-11  --->87\n",
            "Enter percentage of 12th class student-12  --->76\n",
            "Enter percentage of 12th class student-13  --->65\n",
            "Enter percentage of 12th class student-14  --->54\n",
            "Enter percentage of 12th class student-15  --->43\n",
            "\n",
            "Collection of percentage  of 12th class students \n",
            "[90.0, 34.0, 67.0, 89.0, 87.0, 98.0, 45.0, 67.0, 89.0, 98.0, 87.0, 76.0, 65.0, 54.0, 43.0]\n",
            "\n",
            "Top five percentage of 12th class students using bucket sort\n",
            "[98.0, 98.0, 90.0, 89.0, 89.0]\n"
          ]
        }
      ]
    }
  ]
}